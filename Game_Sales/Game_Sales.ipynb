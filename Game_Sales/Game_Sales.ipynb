{
  "nbformat": 4,
  "nbformat_minor": 0,
  "metadata": {
    "colab": {
      "name": "Untitled6.ipynb",
      "provenance": [],
      "collapsed_sections": []
    },
    "kernelspec": {
      "name": "python3",
      "display_name": "Python 3"
    },
    "language_info": {
      "name": "python"
    }
  },
  "cells": [
    {
      "cell_type": "code",
      "metadata": {
        "colab": {
          "resources": {
            "http://localhost:8080/nbextensions/google.colab/files.js": {
              "data": "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",
              "ok": true,
              "headers": [
                [
                  "content-type",
                  "application/javascript"
                ]
              ],
              "status": 200,
              "status_text": ""
            }
          },
          "base_uri": "https://localhost:8080/",
          "height": 75
        },
        "id": "XXJ2cVQUrzN-",
        "outputId": "152533dc-005d-4fd3-c1b2-216a7c29f1ae"
      },
      "source": [
        "from google.colab import files\n",
        "uploaded = files.upload()"
      ],
      "execution_count": null,
      "outputs": [
        {
          "output_type": "display_data",
          "data": {
            "text/html": [
              "\n",
              "     <input type=\"file\" id=\"files-98e8a357-e383-4659-b351-950ecf4c3cf9\" name=\"files[]\" multiple disabled\n",
              "        style=\"border:none\" />\n",
              "     <output id=\"result-98e8a357-e383-4659-b351-950ecf4c3cf9\">\n",
              "      Upload widget is only available when the cell has been executed in the\n",
              "      current browser session. Please rerun this cell to enable.\n",
              "      </output>\n",
              "      <script src=\"/nbextensions/google.colab/files.js\"></script> "
            ],
            "text/plain": [
              "<IPython.core.display.HTML object>"
            ]
          },
          "metadata": {
            "tags": []
          }
        },
        {
          "output_type": "stream",
          "text": [
            "Saving vgames2.csv to vgames2.csv\n"
          ],
          "name": "stdout"
        }
      ]
    },
    {
      "cell_type": "code",
      "metadata": {
        "colab": {
          "base_uri": "https://localhost:8080/"
        },
        "id": "_sJbtqiwdLJc",
        "outputId": "2f8c52a1-676f-45a3-b588-3e4460134d0a"
      },
      "source": [
        "import pandas as pd\n",
        "import numpy as np\n",
        "import io\n",
        "\n",
        "#데이터 불러오기\n",
        "df = pd.read_csv(io.BytesIO(uploaded['vgames2.csv']))\n",
        "df = df.dropna(axis=0)\n",
        "df['Year'] = df['Year'].astype(int)\n",
        "\n",
        "#중복된 게임명 제거\n",
        "df = df.drop_duplicates(['Name'])\n",
        "df.iloc[:12]\n",
        "df.shape"
      ],
      "execution_count": null,
      "outputs": [
        {
          "output_type": "execute_result",
          "data": {
            "text/plain": [
              "(11410, 9)"
            ]
          },
          "metadata": {
            "tags": []
          },
          "execution_count": 190
        }
      ]
    },
    {
      "cell_type": "code",
      "metadata": {
        "id": "bA_fL9h5kkrX"
      },
      "source": [
        "#Sales 데이터의 단위는 Million, 따라서 K, M 지우고 단위 변환\n",
        "\n",
        "df.NA_Sales = (df.NA_Sales.replace(r'[KM]+$', '', regex=True).astype(float) * \\\n",
        "           df.NA_Sales.str.extract(r'[\\d\\.]+([KM]+)', expand=False)\n",
        "           .fillna(1)\n",
        "           .replace(['K','M'], [10**-3, 1]).astype(int))\n",
        " \n",
        "df.EU_Sales = (df.EU_Sales.replace(r'[KM]+$', '', regex=True).astype(float) * \\\n",
        "           df.EU_Sales.str.extract(r'[\\d\\.]+([KM]+)', expand=False)\n",
        "           .fillna(1)\n",
        "           .replace(['K','M'], [10**-3, 1]).astype(int))\n",
        " \n",
        "df.JP_Sales = (df.JP_Sales.replace(r'[KM]+$', '', regex=True).astype(float) * \\\n",
        "           df.JP_Sales.str.extract(r'[\\d\\.]+([KM]+)', expand=False)\n",
        "           .fillna(1)\n",
        "           .replace(['K','M'], [10**-3, 1]).astype(int))\n",
        "df.Other_Sales = (df.Other_Sales.replace(r'[KM]+$', '', regex=True).astype(float) * \\\n",
        "           df.Other_Sales.str.extract(r'[\\d\\.]+([KM]+)', expand=False)\n",
        "           .fillna(1)\n",
        "           .replace(['K','M'], [10**-3, 1]).astype(int))\n",
        "\n"
      ],
      "execution_count": null,
      "outputs": []
    },
    {
      "cell_type": "code",
      "metadata": {
        "colab": {
          "base_uri": "https://localhost:8080/",
          "height": 408
        },
        "id": "nHJIG1BBwXKT",
        "outputId": "5e70895e-6511-497c-adff-5e4d924f49dc"
      },
      "source": [
        "#함수 이용하여 연도 수정\n",
        "def test(x):\n",
        "      if x >=50 and x < 1000: return x+1900 \n",
        "      elif x >= 0 and x < 50: return x+2000\n",
        "      else: return x\n",
        "df['Year'] = df['Year'].apply(test)\n",
        "df"
      ],
      "execution_count": null,
      "outputs": [
        {
          "output_type": "execute_result",
          "data": {
            "text/html": [
              "<div>\n",
              "<style scoped>\n",
              "    .dataframe tbody tr th:only-of-type {\n",
              "        vertical-align: middle;\n",
              "    }\n",
              "\n",
              "    .dataframe tbody tr th {\n",
              "        vertical-align: top;\n",
              "    }\n",
              "\n",
              "    .dataframe thead th {\n",
              "        text-align: right;\n",
              "    }\n",
              "</style>\n",
              "<table border=\"1\" class=\"dataframe\">\n",
              "  <thead>\n",
              "    <tr style=\"text-align: right;\">\n",
              "      <th></th>\n",
              "      <th>Name</th>\n",
              "      <th>Publisher</th>\n",
              "      <th>Platform</th>\n",
              "      <th>Year</th>\n",
              "      <th>Genre</th>\n",
              "      <th>NA_Sales</th>\n",
              "      <th>EU_Sales</th>\n",
              "      <th>JP_Sales</th>\n",
              "      <th>Other_Sales</th>\n",
              "    </tr>\n",
              "  </thead>\n",
              "  <tbody>\n",
              "    <tr>\n",
              "      <th>0</th>\n",
              "      <td>Brothers in Arms: Furious 4</td>\n",
              "      <td>Gearbox Software</td>\n",
              "      <td>X360</td>\n",
              "      <td>2000</td>\n",
              "      <td>Shooter</td>\n",
              "      <td>0.01</td>\n",
              "      <td>0.00</td>\n",
              "      <td>0.00</td>\n",
              "      <td>0.00</td>\n",
              "    </tr>\n",
              "    <tr>\n",
              "      <th>2</th>\n",
              "      <td>Trade &amp; Battle: Card Hero</td>\n",
              "      <td>Nintendo</td>\n",
              "      <td>GB</td>\n",
              "      <td>2000</td>\n",
              "      <td>Strategy</td>\n",
              "      <td>0.00</td>\n",
              "      <td>0.00</td>\n",
              "      <td>0.20</td>\n",
              "      <td>0.00</td>\n",
              "    </tr>\n",
              "    <tr>\n",
              "      <th>3</th>\n",
              "      <td>Strider 2</td>\n",
              "      <td>Virgin Interactive</td>\n",
              "      <td>PS</td>\n",
              "      <td>2000</td>\n",
              "      <td>Platform</td>\n",
              "      <td>0.05</td>\n",
              "      <td>0.03</td>\n",
              "      <td>0.00</td>\n",
              "      <td>0.01</td>\n",
              "    </tr>\n",
              "    <tr>\n",
              "      <th>4</th>\n",
              "      <td>Point Blank 3</td>\n",
              "      <td>Namco Bandai Games</td>\n",
              "      <td>PS</td>\n",
              "      <td>2000</td>\n",
              "      <td>Shooter</td>\n",
              "      <td>0.01</td>\n",
              "      <td>0.01</td>\n",
              "      <td>0.00</td>\n",
              "      <td>0.00</td>\n",
              "    </tr>\n",
              "    <tr>\n",
              "      <th>5</th>\n",
              "      <td>SplashDown</td>\n",
              "      <td>Atari</td>\n",
              "      <td>PS2</td>\n",
              "      <td>2001</td>\n",
              "      <td>Racing</td>\n",
              "      <td>0.34</td>\n",
              "      <td>0.27</td>\n",
              "      <td>0.00</td>\n",
              "      <td>0.09</td>\n",
              "    </tr>\n",
              "    <tr>\n",
              "      <th>...</th>\n",
              "      <td>...</td>\n",
              "      <td>...</td>\n",
              "      <td>...</td>\n",
              "      <td>...</td>\n",
              "      <td>...</td>\n",
              "      <td>...</td>\n",
              "      <td>...</td>\n",
              "      <td>...</td>\n",
              "      <td>...</td>\n",
              "    </tr>\n",
              "    <tr>\n",
              "      <th>16590</th>\n",
              "      <td>Hangman</td>\n",
              "      <td>Atari</td>\n",
              "      <td>2600</td>\n",
              "      <td>2017</td>\n",
              "      <td>Puzzle</td>\n",
              "      <td>0.00</td>\n",
              "      <td>0.02</td>\n",
              "      <td>0.00</td>\n",
              "      <td>0.00</td>\n",
              "    </tr>\n",
              "    <tr>\n",
              "      <th>16592</th>\n",
              "      <td>Brothers Conflict: Precious Baby</td>\n",
              "      <td>Idea Factory</td>\n",
              "      <td>PSV</td>\n",
              "      <td>2017</td>\n",
              "      <td>Action</td>\n",
              "      <td>0.00</td>\n",
              "      <td>0.00</td>\n",
              "      <td>0.01</td>\n",
              "      <td>0.00</td>\n",
              "    </tr>\n",
              "    <tr>\n",
              "      <th>16593</th>\n",
              "      <td>Phantasy Star Online 2 Episode 4: Deluxe Package</td>\n",
              "      <td>Sega</td>\n",
              "      <td>PS4</td>\n",
              "      <td>2017</td>\n",
              "      <td>Role-Playing</td>\n",
              "      <td>0.00</td>\n",
              "      <td>0.00</td>\n",
              "      <td>0.03</td>\n",
              "      <td>0.00</td>\n",
              "    </tr>\n",
              "    <tr>\n",
              "      <th>16596</th>\n",
              "      <td>Drake of the 99 Dragons</td>\n",
              "      <td>Unknown</td>\n",
              "      <td>XB</td>\n",
              "      <td>2018</td>\n",
              "      <td>Shooter</td>\n",
              "      <td>0.05</td>\n",
              "      <td>0.01</td>\n",
              "      <td>0.00</td>\n",
              "      <td>0.00</td>\n",
              "    </tr>\n",
              "    <tr>\n",
              "      <th>16597</th>\n",
              "      <td>Imagine: Makeup Artist</td>\n",
              "      <td>Ubisoft</td>\n",
              "      <td>DS</td>\n",
              "      <td>2020</td>\n",
              "      <td>Simulation</td>\n",
              "      <td>0.27</td>\n",
              "      <td>0.00</td>\n",
              "      <td>0.00</td>\n",
              "      <td>0.02</td>\n",
              "    </tr>\n",
              "  </tbody>\n",
              "</table>\n",
              "<p>11410 rows × 9 columns</p>\n",
              "</div>"
            ],
            "text/plain": [
              "                                                   Name  ... Other_Sales\n",
              "0                           Brothers in Arms: Furious 4  ...        0.00\n",
              "2                             Trade & Battle: Card Hero  ...        0.00\n",
              "3                                             Strider 2  ...        0.01\n",
              "4                                         Point Blank 3  ...        0.00\n",
              "5                                            SplashDown  ...        0.09\n",
              "...                                                 ...  ...         ...\n",
              "16590                                           Hangman  ...        0.00\n",
              "16592                  Brothers Conflict: Precious Baby  ...        0.00\n",
              "16593  Phantasy Star Online 2 Episode 4: Deluxe Package  ...        0.00\n",
              "16596                           Drake of the 99 Dragons  ...        0.00\n",
              "16597                            Imagine: Makeup Artist  ...        0.02\n",
              "\n",
              "[11410 rows x 9 columns]"
            ]
          },
          "metadata": {
            "tags": []
          },
          "execution_count": 192
        }
      ]
    },
    {
      "cell_type": "code",
      "metadata": {
        "colab": {
          "base_uri": "https://localhost:8080/",
          "height": 408
        },
        "id": "9ImEG5OC4z3o",
        "outputId": "23902831-42f7-4fe7-cd18-fd036d9574b5"
      },
      "source": [
        "df.sort_values(['Year'], ascending=True)"
      ],
      "execution_count": null,
      "outputs": [
        {
          "output_type": "execute_result",
          "data": {
            "text/html": [
              "<div>\n",
              "<style scoped>\n",
              "    .dataframe tbody tr th:only-of-type {\n",
              "        vertical-align: middle;\n",
              "    }\n",
              "\n",
              "    .dataframe tbody tr th {\n",
              "        vertical-align: top;\n",
              "    }\n",
              "\n",
              "    .dataframe thead th {\n",
              "        text-align: right;\n",
              "    }\n",
              "</style>\n",
              "<table border=\"1\" class=\"dataframe\">\n",
              "  <thead>\n",
              "    <tr style=\"text-align: right;\">\n",
              "      <th></th>\n",
              "      <th>Name</th>\n",
              "      <th>Publisher</th>\n",
              "      <th>Platform</th>\n",
              "      <th>Year</th>\n",
              "      <th>Genre</th>\n",
              "      <th>NA_Sales</th>\n",
              "      <th>EU_Sales</th>\n",
              "      <th>JP_Sales</th>\n",
              "      <th>Other_Sales</th>\n",
              "    </tr>\n",
              "  </thead>\n",
              "  <tbody>\n",
              "    <tr>\n",
              "      <th>104</th>\n",
              "      <td>Combat</td>\n",
              "      <td>Atari</td>\n",
              "      <td>2600</td>\n",
              "      <td>1977</td>\n",
              "      <td>Action</td>\n",
              "      <td>1.17</td>\n",
              "      <td>0.07</td>\n",
              "      <td>0.00</td>\n",
              "      <td>0.01</td>\n",
              "    </tr>\n",
              "    <tr>\n",
              "      <th>103</th>\n",
              "      <td>Indy 500</td>\n",
              "      <td>Atari</td>\n",
              "      <td>2600</td>\n",
              "      <td>1977</td>\n",
              "      <td>Racing</td>\n",
              "      <td>0.26</td>\n",
              "      <td>0.01</td>\n",
              "      <td>0.00</td>\n",
              "      <td>0.00</td>\n",
              "    </tr>\n",
              "    <tr>\n",
              "      <th>102</th>\n",
              "      <td>Air-Sea Battle</td>\n",
              "      <td>Atari</td>\n",
              "      <td>2600</td>\n",
              "      <td>1977</td>\n",
              "      <td>Shooter</td>\n",
              "      <td>0.91</td>\n",
              "      <td>0.06</td>\n",
              "      <td>0.00</td>\n",
              "      <td>0.01</td>\n",
              "    </tr>\n",
              "    <tr>\n",
              "      <th>106</th>\n",
              "      <td>Super Breakout</td>\n",
              "      <td>Atari</td>\n",
              "      <td>2600</td>\n",
              "      <td>1978</td>\n",
              "      <td>Puzzle</td>\n",
              "      <td>0.41</td>\n",
              "      <td>0.03</td>\n",
              "      <td>0.00</td>\n",
              "      <td>0.00</td>\n",
              "    </tr>\n",
              "    <tr>\n",
              "      <th>109</th>\n",
              "      <td>Space Invaders</td>\n",
              "      <td>Atari</td>\n",
              "      <td>2600</td>\n",
              "      <td>1978</td>\n",
              "      <td>Shooter</td>\n",
              "      <td>2.36</td>\n",
              "      <td>0.14</td>\n",
              "      <td>0.00</td>\n",
              "      <td>0.03</td>\n",
              "    </tr>\n",
              "    <tr>\n",
              "      <th>...</th>\n",
              "      <td>...</td>\n",
              "      <td>...</td>\n",
              "      <td>...</td>\n",
              "      <td>...</td>\n",
              "      <td>...</td>\n",
              "      <td>...</td>\n",
              "      <td>...</td>\n",
              "      <td>...</td>\n",
              "      <td>...</td>\n",
              "    </tr>\n",
              "    <tr>\n",
              "      <th>16590</th>\n",
              "      <td>Hangman</td>\n",
              "      <td>Atari</td>\n",
              "      <td>2600</td>\n",
              "      <td>2017</td>\n",
              "      <td>Puzzle</td>\n",
              "      <td>0.00</td>\n",
              "      <td>0.02</td>\n",
              "      <td>0.00</td>\n",
              "      <td>0.00</td>\n",
              "    </tr>\n",
              "    <tr>\n",
              "      <th>16592</th>\n",
              "      <td>Brothers Conflict: Precious Baby</td>\n",
              "      <td>Idea Factory</td>\n",
              "      <td>PSV</td>\n",
              "      <td>2017</td>\n",
              "      <td>Action</td>\n",
              "      <td>0.00</td>\n",
              "      <td>0.00</td>\n",
              "      <td>0.01</td>\n",
              "      <td>0.00</td>\n",
              "    </tr>\n",
              "    <tr>\n",
              "      <th>16593</th>\n",
              "      <td>Phantasy Star Online 2 Episode 4: Deluxe Package</td>\n",
              "      <td>Sega</td>\n",
              "      <td>PS4</td>\n",
              "      <td>2017</td>\n",
              "      <td>Role-Playing</td>\n",
              "      <td>0.00</td>\n",
              "      <td>0.00</td>\n",
              "      <td>0.03</td>\n",
              "      <td>0.00</td>\n",
              "    </tr>\n",
              "    <tr>\n",
              "      <th>16596</th>\n",
              "      <td>Drake of the 99 Dragons</td>\n",
              "      <td>Unknown</td>\n",
              "      <td>XB</td>\n",
              "      <td>2018</td>\n",
              "      <td>Shooter</td>\n",
              "      <td>0.05</td>\n",
              "      <td>0.01</td>\n",
              "      <td>0.00</td>\n",
              "      <td>0.00</td>\n",
              "    </tr>\n",
              "    <tr>\n",
              "      <th>16597</th>\n",
              "      <td>Imagine: Makeup Artist</td>\n",
              "      <td>Ubisoft</td>\n",
              "      <td>DS</td>\n",
              "      <td>2020</td>\n",
              "      <td>Simulation</td>\n",
              "      <td>0.27</td>\n",
              "      <td>0.00</td>\n",
              "      <td>0.00</td>\n",
              "      <td>0.02</td>\n",
              "    </tr>\n",
              "  </tbody>\n",
              "</table>\n",
              "<p>11410 rows × 9 columns</p>\n",
              "</div>"
            ],
            "text/plain": [
              "                                                   Name  ... Other_Sales\n",
              "104                                              Combat  ...        0.01\n",
              "103                                            Indy 500  ...        0.00\n",
              "102                                      Air-Sea Battle  ...        0.01\n",
              "106                                      Super Breakout  ...        0.00\n",
              "109                                      Space Invaders  ...        0.03\n",
              "...                                                 ...  ...         ...\n",
              "16590                                           Hangman  ...        0.00\n",
              "16592                  Brothers Conflict: Precious Baby  ...        0.00\n",
              "16593  Phantasy Star Online 2 Episode 4: Deluxe Package  ...        0.00\n",
              "16596                           Drake of the 99 Dragons  ...        0.00\n",
              "16597                            Imagine: Makeup Artist  ...        0.02\n",
              "\n",
              "[11410 rows x 9 columns]"
            ]
          },
          "metadata": {
            "tags": []
          },
          "execution_count": 194
        }
      ]
    },
    {
      "cell_type": "markdown",
      "metadata": {
        "id": "WGPjXRGaxohL"
      },
      "source": [
        "1 지역에 따라서 선호하는 게임 장르가 다를까?"
      ]
    },
    {
      "cell_type": "code",
      "metadata": {
        "id": "PKvwD_G4XRfX"
      },
      "source": [
        "#1 지역에 따라서 선호하는 게임 장르가 다를까?\n",
        "import pandas as pd\n",
        "import numpy as np\n",
        "import matplotlib.pyplot as plt\n",
        "import seaborn\n",
        "\n",
        "%matplotlib inline"
      ],
      "execution_count": null,
      "outputs": []
    },
    {
      "cell_type": "code",
      "metadata": {
        "colab": {
          "base_uri": "https://localhost:8080/",
          "height": 515
        },
        "id": "eC1znTAwasMD",
        "outputId": "f23055be-4512-4d22-d53a-4f872b03696d"
      },
      "source": [
        "#전체 지역별 장르 선호도\n",
        "df1 = df.drop(['Year'], axis=1)\n",
        "df1.groupby(\"Genre\").sum()\n",
        "\n",
        "plt.rcParams[\"figure.figsize\"] = (20,8)\n",
        "compare_plot = df1.groupby(\"Genre\").sum().plot(kind='barh')\n",
        "compare_plot.set_xlabel(\"Sales\")\n",
        "compare_plot.set_ylabel(\"Genre\")"
      ],
      "execution_count": null,
      "outputs": [
        {
          "output_type": "execute_result",
          "data": {
            "text/plain": [
              "Text(0, 0.5, 'Genre')"
            ]
          },
          "metadata": {
            "tags": []
          },
          "execution_count": 197
        },
        {
          "output_type": "display_data",
          "data": {
            "image/png": "[encoded data removed]",
            "text/plain": [
              "<Figure size 1440x576 with 1 Axes>"
            ]
          },
          "metadata": {
            "tags": [],
            "needs_background": "light"
          }
        }
      ]
    },
    {
      "cell_type": "code",
      "metadata": {
        "colab": {
          "base_uri": "https://localhost:8080/",
          "height": 515
        },
        "id": "pL_T_BR2YaLV",
        "outputId": "0ead6177-893e-4576-a813-f090767cbda0"
      },
      "source": [
        "#1900년대 선호 장르\n",
        "df_year1 = df\n",
        "df_year1 = df_year1[df_year1['Year'].between(1977, 1999)]\n",
        "df_year1 = df_year1.drop(['Year'], axis=1)\n",
        "region_year1_plot = df_year1.groupby(\"Genre\").sum().plot(kind='barh')\n",
        "region_year1_plot.set_xlabel(\"Sales\")\n",
        "region_year1_plot.set_ylabel(\"Genre\")"
      ],
      "execution_count": null,
      "outputs": [
        {
          "output_type": "execute_result",
          "data": {
            "text/plain": [
              "Text(0, 0.5, 'Genre')"
            ]
          },
          "metadata": {
            "tags": []
          },
          "execution_count": 198
        },
        {
          "output_type": "display_data",
          "data": {
            "image/png": "[encoded data removed]",
            "text/plain": [
              "<Figure size 1440x576 with 1 Axes>"
            ]
          },
          "metadata": {
            "tags": [],
            "needs_background": "light"
          }
        }
      ]
    },
    {
      "cell_type": "code",
      "metadata": {
        "colab": {
          "base_uri": "https://localhost:8080/",
          "height": 515
        },
        "id": "fagWvcHPYkkD",
        "outputId": "9bdfc34d-5df5-42b4-d9b7-72d174ab4f19"
      },
      "source": [
        "#2000년대 선호 장르\n",
        "df_year2 = df\n",
        "df_year2 = df_year2[df_year2['Year'].between(2000, 2009)]\n",
        "df_year2 = df_year2.drop(['Year'], axis=1)\n",
        "region_year2_plot = df_year2.groupby(\"Genre\").sum().plot(kind='barh')\n",
        "region_year2_plot.set_xlabel(\"Sales\")\n",
        "region_year2_plot.set_ylabel(\"Genre\")"
      ],
      "execution_count": null,
      "outputs": [
        {
          "output_type": "execute_result",
          "data": {
            "text/plain": [
              "Text(0, 0.5, 'Genre')"
            ]
          },
          "metadata": {
            "tags": []
          },
          "execution_count": 199
        },
        {
          "output_type": "display_data",
          "data": {
            "image/png": "[encoded data removed]",
            "text/plain": [
              "<Figure size 1440x576 with 1 Axes>"
            ]
          },
          "metadata": {
            "tags": [],
            "needs_background": "light"
          }
        }
      ]
    },
    {
      "cell_type": "code",
      "metadata": {
        "colab": {
          "base_uri": "https://localhost:8080/",
          "height": 515
        },
        "id": "mfbgfx_jYlim",
        "outputId": "7c0cdfa1-7244-4106-debf-282e48032980"
      },
      "source": [
        "#2010년대 선호 장르\n",
        "df_year3 = df\n",
        "df_year3 = df_year3[df_year3['Year'].between(2010, 2020)]\n",
        "df_year3 = df_year3.drop(['Year'], axis=1)\n",
        "region_year3_plot = df_year3.groupby(\"Genre\").sum().plot(kind='barh')\n",
        "region_year3_plot.set_xlabel(\"Sales\")\n",
        "region_year3_plot.set_ylabel(\"Genre\")"
      ],
      "execution_count": null,
      "outputs": [
        {
          "output_type": "execute_result",
          "data": {
            "text/plain": [
              "Text(0, 0.5, 'Genre')"
            ]
          },
          "metadata": {
            "tags": []
          },
          "execution_count": 200
        },
        {
          "output_type": "display_data",
          "data": {
            "image/png": "[encoded data removed]",
            "text/plain": [
              "<Figure size 1440x576 with 1 Axes>"
            ]
          },
          "metadata": {
            "tags": [],
            "needs_background": "light"
          }
        }
      ]
    },
    {
      "cell_type": "code",
      "metadata": {
        "colab": {
          "base_uri": "https://localhost:8080/",
          "height": 441
        },
        "id": "a2OKQVqqwtfx",
        "outputId": "364e8902-c655-42cb-dadd-e805d990ce8a"
      },
      "source": [
        "#지역별 장르 평균 매출 \n",
        "NA_Sales_Mean = (df.groupby(['Genre'], as_index=False).mean()\n",
        "            .groupby('Genre')['NA_Sales'].mean())\n",
        "EU_Sales_Mean = (df.groupby(['Genre'], as_index=False).mean()\n",
        "            .groupby('Genre')['EU_Sales'].mean())\n",
        "JP_Sales_Mean = (df.groupby(['Genre'], as_index=False).mean()\n",
        "            .groupby('Genre')['JP_Sales'].mean())\n",
        "Other_Sales_Mean = (df.groupby(['Genre'], as_index=False).mean()\n",
        "            .groupby('Genre')['Other_Sales'].mean())\n",
        "Sales_Mean = pd.DataFrame([NA_Sales_Mean, EU_Sales_Mean, JP_Sales_Mean, Other_Sales_Mean])\n",
        "Sales_Mean = Sales_Mean.T\n",
        "Sales_Mean"
      ],
      "execution_count": null,
      "outputs": [
        {
          "output_type": "execute_result",
          "data": {
            "text/html": [
              "<div>\n",
              "<style scoped>\n",
              "    .dataframe tbody tr th:only-of-type {\n",
              "        vertical-align: middle;\n",
              "    }\n",
              "\n",
              "    .dataframe tbody tr th {\n",
              "        vertical-align: top;\n",
              "    }\n",
              "\n",
              "    .dataframe thead th {\n",
              "        text-align: right;\n",
              "    }\n",
              "</style>\n",
              "<table border=\"1\" class=\"dataframe\">\n",
              "  <thead>\n",
              "    <tr style=\"text-align: right;\">\n",
              "      <th></th>\n",
              "      <th>NA_Sales</th>\n",
              "      <th>EU_Sales</th>\n",
              "      <th>JP_Sales</th>\n",
              "      <th>Other_Sales</th>\n",
              "    </tr>\n",
              "    <tr>\n",
              "      <th>Genre</th>\n",
              "      <th></th>\n",
              "      <th></th>\n",
              "      <th></th>\n",
              "      <th></th>\n",
              "    </tr>\n",
              "  </thead>\n",
              "  <tbody>\n",
              "    <tr>\n",
              "      <th>Action</th>\n",
              "      <td>0.250236</td>\n",
              "      <td>0.132006</td>\n",
              "      <td>0.067962</td>\n",
              "      <td>0.049298</td>\n",
              "    </tr>\n",
              "    <tr>\n",
              "      <th>Adventure</th>\n",
              "      <td>0.078131</td>\n",
              "      <td>0.046879</td>\n",
              "      <td>0.046445</td>\n",
              "      <td>0.011445</td>\n",
              "    </tr>\n",
              "    <tr>\n",
              "      <th>Fighting</th>\n",
              "      <td>0.241656</td>\n",
              "      <td>0.110410</td>\n",
              "      <td>0.125311</td>\n",
              "      <td>0.035656</td>\n",
              "    </tr>\n",
              "    <tr>\n",
              "      <th>Misc</th>\n",
              "      <td>0.211983</td>\n",
              "      <td>0.120579</td>\n",
              "      <td>0.077068</td>\n",
              "      <td>0.037809</td>\n",
              "    </tr>\n",
              "    <tr>\n",
              "      <th>Platform</th>\n",
              "      <td>0.618313</td>\n",
              "      <td>0.261670</td>\n",
              "      <td>0.205911</td>\n",
              "      <td>0.063288</td>\n",
              "    </tr>\n",
              "    <tr>\n",
              "      <th>Puzzle</th>\n",
              "      <td>0.178907</td>\n",
              "      <td>0.090061</td>\n",
              "      <td>0.095769</td>\n",
              "      <td>0.021802</td>\n",
              "    </tr>\n",
              "    <tr>\n",
              "      <th>Racing</th>\n",
              "      <td>0.329766</td>\n",
              "      <td>0.215977</td>\n",
              "      <td>0.070560</td>\n",
              "      <td>0.068333</td>\n",
              "    </tr>\n",
              "    <tr>\n",
              "      <th>Role-Playing</th>\n",
              "      <td>0.209811</td>\n",
              "      <td>0.117051</td>\n",
              "      <td>0.256005</td>\n",
              "      <td>0.033674</td>\n",
              "    </tr>\n",
              "    <tr>\n",
              "      <th>Shooter</th>\n",
              "      <td>0.419424</td>\n",
              "      <td>0.193971</td>\n",
              "      <td>0.035907</td>\n",
              "      <td>0.063358</td>\n",
              "    </tr>\n",
              "    <tr>\n",
              "      <th>Simulation</th>\n",
              "      <td>0.204605</td>\n",
              "      <td>0.127920</td>\n",
              "      <td>0.081429</td>\n",
              "      <td>0.034702</td>\n",
              "    </tr>\n",
              "    <tr>\n",
              "      <th>Sports</th>\n",
              "      <td>0.267524</td>\n",
              "      <td>0.148548</td>\n",
              "      <td>0.082622</td>\n",
              "      <td>0.045599</td>\n",
              "    </tr>\n",
              "    <tr>\n",
              "      <th>Strategy</th>\n",
              "      <td>0.100914</td>\n",
              "      <td>0.066362</td>\n",
              "      <td>0.081948</td>\n",
              "      <td>0.015810</td>\n",
              "    </tr>\n",
              "  </tbody>\n",
              "</table>\n",
              "</div>"
            ],
            "text/plain": [
              "              NA_Sales  EU_Sales  JP_Sales  Other_Sales\n",
              "Genre                                                  \n",
              "Action        0.250236  0.132006  0.067962     0.049298\n",
              "Adventure     0.078131  0.046879  0.046445     0.011445\n",
              "Fighting      0.241656  0.110410  0.125311     0.035656\n",
              "Misc          0.211983  0.120579  0.077068     0.037809\n",
              "Platform      0.618313  0.261670  0.205911     0.063288\n",
              "Puzzle        0.178907  0.090061  0.095769     0.021802\n",
              "Racing        0.329766  0.215977  0.070560     0.068333\n",
              "Role-Playing  0.209811  0.117051  0.256005     0.033674\n",
              "Shooter       0.419424  0.193971  0.035907     0.063358\n",
              "Simulation    0.204605  0.127920  0.081429     0.034702\n",
              "Sports        0.267524  0.148548  0.082622     0.045599\n",
              "Strategy      0.100914  0.066362  0.081948     0.015810"
            ]
          },
          "metadata": {
            "tags": []
          },
          "execution_count": 201
        }
      ]
    },
    {
      "cell_type": "code",
      "metadata": {
        "colab": {
          "base_uri": "https://localhost:8080/",
          "height": 510
        },
        "id": "NFbcnb5yxPEN",
        "outputId": "38d3277d-4828-420d-879a-9bb7d669fc8e"
      },
      "source": [
        "#시각화 그래프 사이즈 조정\n",
        "plt.rcParams[\"figure.figsize\"] = (40,12)\n",
        "\n",
        "#Sales 전체 평균 그래프\n",
        "compare_plot = Sales_Mean.plot(kind='barh')\n",
        "compare_plot.set_xlabel(\"Sales\")\n",
        "compare_plot.set_ylabel(\"Genre\")"
      ],
      "execution_count": null,
      "outputs": [
        {
          "output_type": "execute_result",
          "data": {
            "text/plain": [
              "Text(0, 0.5, 'Genre')"
            ]
          },
          "metadata": {
            "tags": []
          },
          "execution_count": 202
        },
        {
          "output_type": "display_data",
          "data": {
            "image/png": "[encoded data removed]",
            "text/plain": [
              "<Figure size 2880x864 with 1 Axes>"
            ]
          },
          "metadata": {
            "tags": [],
            "needs_background": "light"
          }
        }
      ]
    },
    {
      "cell_type": "markdown",
      "metadata": {
        "id": "yCutoIgtlvmI"
      },
      "source": [
        "2. 연도별 게임(장르)의 트렌드가 있을까 라는 질문에 대답을 하셔야합니다."
      ]
    },
    {
      "cell_type": "code",
      "metadata": {
        "colab": {
          "base_uri": "https://localhost:8080/",
          "height": 200
        },
        "id": "sFgdL9NFmCmo",
        "outputId": "441fdbbe-43a7-4107-c7a9-c248aba7d0e2"
      },
      "source": [
        "df2 = df.copy()\n",
        "list_of_my_columns = ['NA_Sales', 'EU_Sales', 'JP_Sales', 'Other_Sales']\n",
        "df2['Total_Sales'] = df[list_of_my_columns].sum(axis=1)\n",
        "df2['Year'] = df2['Year'].astype(int)\n",
        "df2.head()"
      ],
      "execution_count": null,
      "outputs": [
        {
          "output_type": "execute_result",
          "data": {
            "text/html": [
              "<div>\n",
              "<style scoped>\n",
              "    .dataframe tbody tr th:only-of-type {\n",
              "        vertical-align: middle;\n",
              "    }\n",
              "\n",
              "    .dataframe tbody tr th {\n",
              "        vertical-align: top;\n",
              "    }\n",
              "\n",
              "    .dataframe thead th {\n",
              "        text-align: right;\n",
              "    }\n",
              "</style>\n",
              "<table border=\"1\" class=\"dataframe\">\n",
              "  <thead>\n",
              "    <tr style=\"text-align: right;\">\n",
              "      <th></th>\n",
              "      <th>Name</th>\n",
              "      <th>Publisher</th>\n",
              "      <th>Platform</th>\n",
              "      <th>Year</th>\n",
              "      <th>Genre</th>\n",
              "      <th>NA_Sales</th>\n",
              "      <th>EU_Sales</th>\n",
              "      <th>JP_Sales</th>\n",
              "      <th>Other_Sales</th>\n",
              "      <th>Total_Sales</th>\n",
              "    </tr>\n",
              "  </thead>\n",
              "  <tbody>\n",
              "    <tr>\n",
              "      <th>0</th>\n",
              "      <td>Brothers in Arms: Furious 4</td>\n",
              "      <td>Gearbox Software</td>\n",
              "      <td>X360</td>\n",
              "      <td>2000</td>\n",
              "      <td>Shooter</td>\n",
              "      <td>0.01</td>\n",
              "      <td>0.00</td>\n",
              "      <td>0.0</td>\n",
              "      <td>0.00</td>\n",
              "      <td>0.01</td>\n",
              "    </tr>\n",
              "    <tr>\n",
              "      <th>2</th>\n",
              "      <td>Trade &amp; Battle: Card Hero</td>\n",
              "      <td>Nintendo</td>\n",
              "      <td>GB</td>\n",
              "      <td>2000</td>\n",
              "      <td>Strategy</td>\n",
              "      <td>0.00</td>\n",
              "      <td>0.00</td>\n",
              "      <td>0.2</td>\n",
              "      <td>0.00</td>\n",
              "      <td>0.20</td>\n",
              "    </tr>\n",
              "    <tr>\n",
              "      <th>3</th>\n",
              "      <td>Strider 2</td>\n",
              "      <td>Virgin Interactive</td>\n",
              "      <td>PS</td>\n",
              "      <td>2000</td>\n",
              "      <td>Platform</td>\n",
              "      <td>0.05</td>\n",
              "      <td>0.03</td>\n",
              "      <td>0.0</td>\n",
              "      <td>0.01</td>\n",
              "      <td>0.09</td>\n",
              "    </tr>\n",
              "    <tr>\n",
              "      <th>4</th>\n",
              "      <td>Point Blank 3</td>\n",
              "      <td>Namco Bandai Games</td>\n",
              "      <td>PS</td>\n",
              "      <td>2000</td>\n",
              "      <td>Shooter</td>\n",
              "      <td>0.01</td>\n",
              "      <td>0.01</td>\n",
              "      <td>0.0</td>\n",
              "      <td>0.00</td>\n",
              "      <td>0.02</td>\n",
              "    </tr>\n",
              "    <tr>\n",
              "      <th>5</th>\n",
              "      <td>SplashDown</td>\n",
              "      <td>Atari</td>\n",
              "      <td>PS2</td>\n",
              "      <td>2001</td>\n",
              "      <td>Racing</td>\n",
              "      <td>0.34</td>\n",
              "      <td>0.27</td>\n",
              "      <td>0.0</td>\n",
              "      <td>0.09</td>\n",
              "      <td>0.70</td>\n",
              "    </tr>\n",
              "  </tbody>\n",
              "</table>\n",
              "</div>"
            ],
            "text/plain": [
              "                          Name           Publisher  ... Other_Sales  Total_Sales\n",
              "0  Brothers in Arms: Furious 4    Gearbox Software  ...        0.00         0.01\n",
              "2    Trade & Battle: Card Hero            Nintendo  ...        0.00         0.20\n",
              "3                    Strider 2  Virgin Interactive  ...        0.01         0.09\n",
              "4                Point Blank 3  Namco Bandai Games  ...        0.00         0.02\n",
              "5                   SplashDown               Atari  ...        0.09         0.70\n",
              "\n",
              "[5 rows x 10 columns]"
            ]
          },
          "metadata": {
            "tags": []
          },
          "execution_count": 203
        }
      ]
    },
    {
      "cell_type": "code",
      "metadata": {
        "colab": {
          "base_uri": "https://localhost:8080/",
          "height": 200
        },
        "id": "7iDV4GV5ypkR",
        "outputId": "1d001368-ceea-4b75-92b9-c2d0dd8ab1e1"
      },
      "source": [
        "cross_df2 = pd.crosstab(df2.Genre, df2.Year)\n",
        "cross_df = cross_df2.T\n",
        "cross_df['Top'] = cross_df.idxmax(axis=1)\n",
        "cross_df['Count'] = cross_df.max(axis=1)\n",
        "cross_df = cross_df.reset_index()\n",
        "cross_df.head()"
      ],
      "execution_count": null,
      "outputs": [
        {
          "output_type": "execute_result",
          "data": {
            "text/html": [
              "<div>\n",
              "<style scoped>\n",
              "    .dataframe tbody tr th:only-of-type {\n",
              "        vertical-align: middle;\n",
              "    }\n",
              "\n",
              "    .dataframe tbody tr th {\n",
              "        vertical-align: top;\n",
              "    }\n",
              "\n",
              "    .dataframe thead th {\n",
              "        text-align: right;\n",
              "    }\n",
              "</style>\n",
              "<table border=\"1\" class=\"dataframe\">\n",
              "  <thead>\n",
              "    <tr style=\"text-align: right;\">\n",
              "      <th>Genre</th>\n",
              "      <th>Year</th>\n",
              "      <th>Action</th>\n",
              "      <th>Adventure</th>\n",
              "      <th>Fighting</th>\n",
              "      <th>Misc</th>\n",
              "      <th>Platform</th>\n",
              "      <th>Puzzle</th>\n",
              "      <th>Racing</th>\n",
              "      <th>Role-Playing</th>\n",
              "      <th>Shooter</th>\n",
              "      <th>Simulation</th>\n",
              "      <th>Sports</th>\n",
              "      <th>Strategy</th>\n",
              "      <th>Top</th>\n",
              "      <th>Count</th>\n",
              "    </tr>\n",
              "  </thead>\n",
              "  <tbody>\n",
              "    <tr>\n",
              "      <th>0</th>\n",
              "      <td>1977</td>\n",
              "      <td>1</td>\n",
              "      <td>0</td>\n",
              "      <td>0</td>\n",
              "      <td>0</td>\n",
              "      <td>0</td>\n",
              "      <td>0</td>\n",
              "      <td>1</td>\n",
              "      <td>0</td>\n",
              "      <td>1</td>\n",
              "      <td>0</td>\n",
              "      <td>0</td>\n",
              "      <td>0</td>\n",
              "      <td>Action</td>\n",
              "      <td>1</td>\n",
              "    </tr>\n",
              "    <tr>\n",
              "      <th>1</th>\n",
              "      <td>1978</td>\n",
              "      <td>1</td>\n",
              "      <td>0</td>\n",
              "      <td>0</td>\n",
              "      <td>0</td>\n",
              "      <td>0</td>\n",
              "      <td>2</td>\n",
              "      <td>0</td>\n",
              "      <td>0</td>\n",
              "      <td>1</td>\n",
              "      <td>0</td>\n",
              "      <td>1</td>\n",
              "      <td>0</td>\n",
              "      <td>Puzzle</td>\n",
              "      <td>2</td>\n",
              "    </tr>\n",
              "    <tr>\n",
              "      <th>2</th>\n",
              "      <td>1979</td>\n",
              "      <td>1</td>\n",
              "      <td>0</td>\n",
              "      <td>0</td>\n",
              "      <td>0</td>\n",
              "      <td>0</td>\n",
              "      <td>0</td>\n",
              "      <td>0</td>\n",
              "      <td>0</td>\n",
              "      <td>0</td>\n",
              "      <td>0</td>\n",
              "      <td>0</td>\n",
              "      <td>0</td>\n",
              "      <td>Action</td>\n",
              "      <td>1</td>\n",
              "    </tr>\n",
              "    <tr>\n",
              "      <th>3</th>\n",
              "      <td>1980</td>\n",
              "      <td>3</td>\n",
              "      <td>1</td>\n",
              "      <td>1</td>\n",
              "      <td>4</td>\n",
              "      <td>0</td>\n",
              "      <td>0</td>\n",
              "      <td>1</td>\n",
              "      <td>0</td>\n",
              "      <td>2</td>\n",
              "      <td>0</td>\n",
              "      <td>1</td>\n",
              "      <td>0</td>\n",
              "      <td>Misc</td>\n",
              "      <td>4</td>\n",
              "    </tr>\n",
              "    <tr>\n",
              "      <th>4</th>\n",
              "      <td>1981</td>\n",
              "      <td>25</td>\n",
              "      <td>0</td>\n",
              "      <td>0</td>\n",
              "      <td>0</td>\n",
              "      <td>3</td>\n",
              "      <td>2</td>\n",
              "      <td>1</td>\n",
              "      <td>0</td>\n",
              "      <td>10</td>\n",
              "      <td>1</td>\n",
              "      <td>4</td>\n",
              "      <td>0</td>\n",
              "      <td>Action</td>\n",
              "      <td>25</td>\n",
              "    </tr>\n",
              "  </tbody>\n",
              "</table>\n",
              "</div>"
            ],
            "text/plain": [
              "Genre  Year  Action  Adventure  Fighting  ...  Sports  Strategy     Top  Count\n",
              "0      1977       1          0         0  ...       0         0  Action      1\n",
              "1      1978       1          0         0  ...       1         0  Puzzle      2\n",
              "2      1979       1          0         0  ...       0         0  Action      1\n",
              "3      1980       3          1         1  ...       1         0    Misc      4\n",
              "4      1981      25          0         0  ...       4         0  Action     25\n",
              "\n",
              "[5 rows x 15 columns]"
            ]
          },
          "metadata": {
            "tags": []
          },
          "execution_count": 204
        }
      ]
    },
    {
      "cell_type": "code",
      "metadata": {
        "colab": {
          "base_uri": "https://localhost:8080/"
        },
        "id": "6TctJ1XUc-pY",
        "outputId": "bd43c739-8a92-42b8-9c77-53fc86c0f40a"
      },
      "source": [
        "from scipy.stats import chi2_contingency\n",
        "\n",
        "obs = pd.crosstab(cross_df['Year'],cross_df['Count'])\n",
        "print(chi2_contingency(obs, correction = False))\n",
        "print(chi2_contingency(obs, correction = True))\n",
        "\n",
        "#귀무가설 : Year & 연도별 Top 장르가 연관이 없다\n",
        "#대립가설 : Year & 연도별 Top 장르가 연관이 없다\n",
        "#신뢰구간 : 95%\n",
        "#pvalue: 0.272로 귀무가설 채택 연관이 없다"
      ],
      "execution_count": null,
      "outputs": [
        {
          "output_type": "stream",
          "text": [
            "(1290.0, 0.27219402721854785, 1260, array([[0.11627907, 0.02325581, 0.02325581, ..., 0.02325581, 0.02325581,\n",
            "        0.02325581],\n",
            "       [0.11627907, 0.02325581, 0.02325581, ..., 0.02325581, 0.02325581,\n",
            "        0.02325581],\n",
            "       [0.11627907, 0.02325581, 0.02325581, ..., 0.02325581, 0.02325581,\n",
            "        0.02325581],\n",
            "       ...,\n",
            "       [0.11627907, 0.02325581, 0.02325581, ..., 0.02325581, 0.02325581,\n",
            "        0.02325581],\n",
            "       [0.11627907, 0.02325581, 0.02325581, ..., 0.02325581, 0.02325581,\n",
            "        0.02325581],\n",
            "       [0.11627907, 0.02325581, 0.02325581, ..., 0.02325581, 0.02325581,\n",
            "        0.02325581]]))\n",
            "(1290.0, 0.27219402721854785, 1260, array([[0.11627907, 0.02325581, 0.02325581, ..., 0.02325581, 0.02325581,\n",
            "        0.02325581],\n",
            "       [0.11627907, 0.02325581, 0.02325581, ..., 0.02325581, 0.02325581,\n",
            "        0.02325581],\n",
            "       [0.11627907, 0.02325581, 0.02325581, ..., 0.02325581, 0.02325581,\n",
            "        0.02325581],\n",
            "       ...,\n",
            "       [0.11627907, 0.02325581, 0.02325581, ..., 0.02325581, 0.02325581,\n",
            "        0.02325581],\n",
            "       [0.11627907, 0.02325581, 0.02325581, ..., 0.02325581, 0.02325581,\n",
            "        0.02325581],\n",
            "       [0.11627907, 0.02325581, 0.02325581, ..., 0.02325581, 0.02325581,\n",
            "        0.02325581]]))\n"
          ],
          "name": "stdout"
        }
      ]
    },
    {
      "cell_type": "code",
      "metadata": {
        "colab": {
          "base_uri": "https://localhost:8080/",
          "height": 517
        },
        "id": "EwtF_jdoQPHT",
        "outputId": "53e924b1-7faa-41ee-9d4a-7a7d57b35cb4"
      },
      "source": [
        "#연도별 출고량에 따른 게임 트렌드\n",
        "import seaborn as sns\n",
        "ax = sns.barplot(x='Year', \n",
        "\n",
        "                  y='Count', \n",
        "\n",
        "                  hue='Top',\n",
        "\n",
        "                  data=cross_df)\n",
        "\n",
        "plt.title('Game Trend with Total Sales from 1997 to 2010', fontsize=20)\n",
        "plt.ylabel('Count', fontsize=14)\n",
        "plt.xlabel('Year', fontsize=14)\n",
        "plt.legend(fontsize=14, loc='best')\n",
        "plt.show()\n"
      ],
      "execution_count": null,
      "outputs": [
        {
          "output_type": "display_data",
          "data": {
            "image/png": "[encoded data removed]",
            "text/plain": [
              "<Figure size 2880x864 with 1 Axes>"
            ]
          },
          "metadata": {
            "tags": [],
            "needs_background": "light"
          }
        }
      ]
    },
    {
      "cell_type": "markdown",
      "metadata": {
        "id": "Eaazz_kRlx1Q"
      },
      "source": [
        "3. 출고량이 높은 게임에 대한 분석 및 시각화 프로세스"
      ]
    },
    {
      "cell_type": "code",
      "metadata": {
        "colab": {
          "base_uri": "https://localhost:8080/",
          "height": 530
        },
        "id": "B7Yk938knYYf",
        "outputId": "ea63a7bf-fc38-462b-8d3b-670205a4efa0"
      },
      "source": [
        "#3.1 플랫폼 국가별 출고량\n",
        "df3 = df2.drop(['Year', 'Total_Sales'], axis=1)\n",
        "df3 = df3.groupby(\"Platform\").sum()\n",
        "year_plot = df3.plot(kind='bar')\n",
        "year_plot.set_xlabel(\"Platform\")\n",
        "year_plot.set_ylabel(\"Sales\")"
      ],
      "execution_count": null,
      "outputs": [
        {
          "output_type": "execute_result",
          "data": {
            "text/plain": [
              "Text(0, 0.5, 'Sales')"
            ]
          },
          "metadata": {
            "tags": []
          },
          "execution_count": 255
        },
        {
          "output_type": "display_data",
          "data": {
            "image/png": "[encoded data removed]",
            "text/plain": [
              "<Figure size 2880x864 with 1 Axes>"
            ]
          },
          "metadata": {
            "tags": [],
            "needs_background": "light"
          }
        }
      ]
    },
    {
      "cell_type": "code",
      "metadata": {
        "colab": {
          "base_uri": "https://localhost:8080/",
          "height": 230
        },
        "id": "Easc70s8sybi",
        "outputId": "f7f00891-d151-429d-a079-0f420fada5ae"
      },
      "source": [
        "#3.2 플랫폼별 게임 출고량\n",
        "df3 = df2[['Platform', 'Total_Sales']]\n",
        "df3 = df3.groupby(\"Platform\").sum()\n",
        "df3.head()\n"
      ],
      "execution_count": null,
      "outputs": [
        {
          "output_type": "execute_result",
          "data": {
            "text/html": [
              "<div>\n",
              "<style scoped>\n",
              "    .dataframe tbody tr th:only-of-type {\n",
              "        vertical-align: middle;\n",
              "    }\n",
              "\n",
              "    .dataframe tbody tr th {\n",
              "        vertical-align: top;\n",
              "    }\n",
              "\n",
              "    .dataframe thead th {\n",
              "        text-align: right;\n",
              "    }\n",
              "</style>\n",
              "<table border=\"1\" class=\"dataframe\">\n",
              "  <thead>\n",
              "    <tr style=\"text-align: right;\">\n",
              "      <th></th>\n",
              "      <th>Total_Sales</th>\n",
              "    </tr>\n",
              "    <tr>\n",
              "      <th>Platform</th>\n",
              "      <th></th>\n",
              "    </tr>\n",
              "  </thead>\n",
              "  <tbody>\n",
              "    <tr>\n",
              "      <th>2600</th>\n",
              "      <td>95.56</td>\n",
              "    </tr>\n",
              "    <tr>\n",
              "      <th>3DO</th>\n",
              "      <td>0.10</td>\n",
              "    </tr>\n",
              "    <tr>\n",
              "      <th>3DS</th>\n",
              "      <td>190.40</td>\n",
              "    </tr>\n",
              "    <tr>\n",
              "      <th>DC</th>\n",
              "      <td>15.37</td>\n",
              "    </tr>\n",
              "    <tr>\n",
              "      <th>DS</th>\n",
              "      <td>666.81</td>\n",
              "    </tr>\n",
              "  </tbody>\n",
              "</table>\n",
              "</div>"
            ],
            "text/plain": [
              "          Total_Sales\n",
              "Platform             \n",
              "2600            95.56\n",
              "3DO              0.10\n",
              "3DS            190.40\n",
              "DC              15.37\n",
              "DS             666.81"
            ]
          },
          "metadata": {
            "tags": []
          },
          "execution_count": 211
        }
      ]
    },
    {
      "cell_type": "code",
      "metadata": {
        "colab": {
          "base_uri": "https://localhost:8080/",
          "height": 516
        },
        "id": "-YY5p7qqqjTb",
        "outputId": "27ef3686-1839-44fc-daac-d6d1bfb73c94"
      },
      "source": [
        "year_plot = df3.plot(kind='barh')\n",
        "year_plot.set_xlabel(\"Genre\")\n",
        "year_plot.set_ylabel(\"Sales\")"
      ],
      "execution_count": null,
      "outputs": [
        {
          "output_type": "execute_result",
          "data": {
            "text/plain": [
              "Text(0, 0.5, 'Sales')"
            ]
          },
          "metadata": {
            "tags": []
          },
          "execution_count": 212
        },
        {
          "output_type": "display_data",
          "data": {
            "image/png": "[encoded data removed]",
            "text/plain": [
              "<Figure size 2880x864 with 1 Axes>"
            ]
          },
          "metadata": {
            "tags": [],
            "needs_background": "light"
          }
        }
      ]
    },
    {
      "cell_type": "code",
      "metadata": {
        "id": "OT-LQf4knVP8",
        "colab": {
          "base_uri": "https://localhost:8080/",
          "height": 955
        },
        "outputId": "866a6713-d86c-4f85-caa2-3e00ccb38d2a"
      },
      "source": [
        "#3.3 Top 100 1900년도 게임\n",
        "df_sort = df2.sort_values(['Total_Sales'], ascending=False)\n",
        "df_sort1 = df_sort[['Name','Genre','Publisher','Platform','Year','Total_Sales']]\n",
        "df_sort1 = df_sort1[df_sort1['Year'].between(1977, 1999)]\n",
        "top1= df_sort1.drop(['Year'], axis=1)\n",
        "top1 = top1.iloc[:100]\n",
        "df_sort1.iloc[:30]"
      ],
      "execution_count": null,
      "outputs": [
        {
          "output_type": "execute_result",
          "data": {
            "text/html": [
              "<div>\n",
              "<style scoped>\n",
              "    .dataframe tbody tr th:only-of-type {\n",
              "        vertical-align: middle;\n",
              "    }\n",
              "\n",
              "    .dataframe tbody tr th {\n",
              "        vertical-align: top;\n",
              "    }\n",
              "\n",
              "    .dataframe thead th {\n",
              "        text-align: right;\n",
              "    }\n",
              "</style>\n",
              "<table border=\"1\" class=\"dataframe\">\n",
              "  <thead>\n",
              "    <tr style=\"text-align: right;\">\n",
              "      <th></th>\n",
              "      <th>Name</th>\n",
              "      <th>Genre</th>\n",
              "      <th>Publisher</th>\n",
              "      <th>Platform</th>\n",
              "      <th>Year</th>\n",
              "      <th>Total_Sales</th>\n",
              "    </tr>\n",
              "  </thead>\n",
              "  <tbody>\n",
              "    <tr>\n",
              "      <th>247</th>\n",
              "      <td>Super Mario Bros.</td>\n",
              "      <td>Platform</td>\n",
              "      <td>Nintendo</td>\n",
              "      <td>NES</td>\n",
              "      <td>1985</td>\n",
              "      <td>40.24</td>\n",
              "    </tr>\n",
              "    <tr>\n",
              "      <th>938</th>\n",
              "      <td>Pokemon Red/Pokemon Blue</td>\n",
              "      <td>Role-Playing</td>\n",
              "      <td>Nintendo</td>\n",
              "      <td>GB</td>\n",
              "      <td>1996</td>\n",
              "      <td>31.38</td>\n",
              "    </tr>\n",
              "    <tr>\n",
              "      <th>238</th>\n",
              "      <td>Duck Hunt</td>\n",
              "      <td>Shooter</td>\n",
              "      <td>Nintendo</td>\n",
              "      <td>NES</td>\n",
              "      <td>1984</td>\n",
              "      <td>28.31</td>\n",
              "    </tr>\n",
              "    <tr>\n",
              "      <th>1949</th>\n",
              "      <td>Pokemon Gold/Pokemon Silver</td>\n",
              "      <td>Role-Playing</td>\n",
              "      <td>Nintendo</td>\n",
              "      <td>GB</td>\n",
              "      <td>1999</td>\n",
              "      <td>23.09</td>\n",
              "    </tr>\n",
              "    <tr>\n",
              "      <th>340</th>\n",
              "      <td>Super Mario World</td>\n",
              "      <td>Platform</td>\n",
              "      <td>Nintendo</td>\n",
              "      <td>SNES</td>\n",
              "      <td>1990</td>\n",
              "      <td>20.62</td>\n",
              "    </tr>\n",
              "    <tr>\n",
              "      <th>315</th>\n",
              "      <td>Super Mario Land</td>\n",
              "      <td>Platform</td>\n",
              "      <td>Nintendo</td>\n",
              "      <td>GB</td>\n",
              "      <td>1989</td>\n",
              "      <td>18.14</td>\n",
              "    </tr>\n",
              "    <tr>\n",
              "      <th>303</th>\n",
              "      <td>Super Mario Bros. 3</td>\n",
              "      <td>Platform</td>\n",
              "      <td>Nintendo</td>\n",
              "      <td>NES</td>\n",
              "      <td>1988</td>\n",
              "      <td>17.28</td>\n",
              "    </tr>\n",
              "    <tr>\n",
              "      <th>1565</th>\n",
              "      <td>Pokémon Yellow: Special Pikachu Edition</td>\n",
              "      <td>Role-Playing</td>\n",
              "      <td>Nintendo</td>\n",
              "      <td>GB</td>\n",
              "      <td>1998</td>\n",
              "      <td>14.64</td>\n",
              "    </tr>\n",
              "    <tr>\n",
              "      <th>915</th>\n",
              "      <td>Super Mario 64</td>\n",
              "      <td>Platform</td>\n",
              "      <td>Nintendo</td>\n",
              "      <td>N64</td>\n",
              "      <td>1996</td>\n",
              "      <td>11.90</td>\n",
              "    </tr>\n",
              "    <tr>\n",
              "      <th>403</th>\n",
              "      <td>Super Mario Land 2: 6 Golden Coins</td>\n",
              "      <td>Adventure</td>\n",
              "      <td>Nintendo</td>\n",
              "      <td>GB</td>\n",
              "      <td>1992</td>\n",
              "      <td>11.18</td>\n",
              "    </tr>\n",
              "    <tr>\n",
              "      <th>1161</th>\n",
              "      <td>Gran Turismo</td>\n",
              "      <td>Racing</td>\n",
              "      <td>Sony Computer Entertainment</td>\n",
              "      <td>PS</td>\n",
              "      <td>1997</td>\n",
              "      <td>10.95</td>\n",
              "    </tr>\n",
              "    <tr>\n",
              "      <th>437</th>\n",
              "      <td>Super Mario All-Stars</td>\n",
              "      <td>Platform</td>\n",
              "      <td>Nintendo</td>\n",
              "      <td>SNES</td>\n",
              "      <td>1993</td>\n",
              "      <td>10.55</td>\n",
              "    </tr>\n",
              "    <tr>\n",
              "      <th>827</th>\n",
              "      <td>Mario Kart 64</td>\n",
              "      <td>Racing</td>\n",
              "      <td>Nintendo</td>\n",
              "      <td>N64</td>\n",
              "      <td>1996</td>\n",
              "      <td>9.87</td>\n",
              "    </tr>\n",
              "    <tr>\n",
              "      <th>1266</th>\n",
              "      <td>Final Fantasy VII</td>\n",
              "      <td>Role-Playing</td>\n",
              "      <td>Sony Computer Entertainment</td>\n",
              "      <td>PS</td>\n",
              "      <td>1997</td>\n",
              "      <td>9.72</td>\n",
              "    </tr>\n",
              "    <tr>\n",
              "      <th>1891</th>\n",
              "      <td>Gran Turismo 2</td>\n",
              "      <td>Racing</td>\n",
              "      <td>Sony Computer Entertainment</td>\n",
              "      <td>PS</td>\n",
              "      <td>1999</td>\n",
              "      <td>9.49</td>\n",
              "    </tr>\n",
              "    <tr>\n",
              "      <th>537</th>\n",
              "      <td>Donkey Kong Country</td>\n",
              "      <td>Platform</td>\n",
              "      <td>Nintendo</td>\n",
              "      <td>SNES</td>\n",
              "      <td>1994</td>\n",
              "      <td>9.30</td>\n",
              "    </tr>\n",
              "    <tr>\n",
              "      <th>409</th>\n",
              "      <td>Super Mario Kart</td>\n",
              "      <td>Racing</td>\n",
              "      <td>Nintendo</td>\n",
              "      <td>SNES</td>\n",
              "      <td>1992</td>\n",
              "      <td>8.77</td>\n",
              "    </tr>\n",
              "    <tr>\n",
              "      <th>1282</th>\n",
              "      <td>GoldenEye 007</td>\n",
              "      <td>Shooter</td>\n",
              "      <td>Nintendo</td>\n",
              "      <td>N64</td>\n",
              "      <td>1997</td>\n",
              "      <td>8.09</td>\n",
              "    </tr>\n",
              "    <tr>\n",
              "      <th>1885</th>\n",
              "      <td>Final Fantasy VIII</td>\n",
              "      <td>Role-Playing</td>\n",
              "      <td>SquareSoft</td>\n",
              "      <td>PS</td>\n",
              "      <td>1999</td>\n",
              "      <td>7.86</td>\n",
              "    </tr>\n",
              "    <tr>\n",
              "      <th>185</th>\n",
              "      <td>Pac-Man</td>\n",
              "      <td>Puzzle</td>\n",
              "      <td>Atari</td>\n",
              "      <td>2600</td>\n",
              "      <td>1982</td>\n",
              "      <td>7.81</td>\n",
              "    </tr>\n",
              "    <tr>\n",
              "      <th>1105</th>\n",
              "      <td>Crash Bandicoot 2: Cortex Strikes Back</td>\n",
              "      <td>Platform</td>\n",
              "      <td>Sony Computer Entertainment</td>\n",
              "      <td>PS</td>\n",
              "      <td>1997</td>\n",
              "      <td>7.57</td>\n",
              "    </tr>\n",
              "    <tr>\n",
              "      <th>296</th>\n",
              "      <td>Super Mario Bros. 2</td>\n",
              "      <td>Platform</td>\n",
              "      <td>Nintendo</td>\n",
              "      <td>NES</td>\n",
              "      <td>1988</td>\n",
              "      <td>7.27</td>\n",
              "    </tr>\n",
              "    <tr>\n",
              "      <th>1627</th>\n",
              "      <td>Tekken 3</td>\n",
              "      <td>Fighting</td>\n",
              "      <td>Sony Computer Entertainment</td>\n",
              "      <td>PS</td>\n",
              "      <td>1998</td>\n",
              "      <td>7.18</td>\n",
              "    </tr>\n",
              "    <tr>\n",
              "      <th>1581</th>\n",
              "      <td>Crash Bandicoot 3: Warped</td>\n",
              "      <td>Platform</td>\n",
              "      <td>Sony Computer Entertainment</td>\n",
              "      <td>PS</td>\n",
              "      <td>1998</td>\n",
              "      <td>7.13</td>\n",
              "    </tr>\n",
              "    <tr>\n",
              "      <th>964</th>\n",
              "      <td>Crash Bandicoot</td>\n",
              "      <td>Platform</td>\n",
              "      <td>Sony Computer Entertainment</td>\n",
              "      <td>PS</td>\n",
              "      <td>1996</td>\n",
              "      <td>6.82</td>\n",
              "    </tr>\n",
              "    <tr>\n",
              "      <th>268</th>\n",
              "      <td>The Legend of Zelda</td>\n",
              "      <td>Action</td>\n",
              "      <td>Nintendo</td>\n",
              "      <td>NES</td>\n",
              "      <td>1986</td>\n",
              "      <td>6.50</td>\n",
              "    </tr>\n",
              "    <tr>\n",
              "      <th>421</th>\n",
              "      <td>Street Fighter II: The World Warrior</td>\n",
              "      <td>Fighting</td>\n",
              "      <td>Capcom</td>\n",
              "      <td>SNES</td>\n",
              "      <td>1992</td>\n",
              "      <td>6.29</td>\n",
              "    </tr>\n",
              "    <tr>\n",
              "      <th>1787</th>\n",
              "      <td>Driver</td>\n",
              "      <td>Action</td>\n",
              "      <td>GT Interactive</td>\n",
              "      <td>PS</td>\n",
              "      <td>1999</td>\n",
              "      <td>6.26</td>\n",
              "    </tr>\n",
              "    <tr>\n",
              "      <th>1428</th>\n",
              "      <td>Metal Gear Solid</td>\n",
              "      <td>Action</td>\n",
              "      <td>Konami Digital Entertainment</td>\n",
              "      <td>PS</td>\n",
              "      <td>1998</td>\n",
              "      <td>6.03</td>\n",
              "    </tr>\n",
              "    <tr>\n",
              "      <th>397</th>\n",
              "      <td>Sonic the Hedgehog 2</td>\n",
              "      <td>Platform</td>\n",
              "      <td>Sega</td>\n",
              "      <td>GEN</td>\n",
              "      <td>1992</td>\n",
              "      <td>6.02</td>\n",
              "    </tr>\n",
              "  </tbody>\n",
              "</table>\n",
              "</div>"
            ],
            "text/plain": [
              "                                         Name         Genre  ...  Year Total_Sales\n",
              "247                         Super Mario Bros.      Platform  ...  1985       40.24\n",
              "938                  Pokemon Red/Pokemon Blue  Role-Playing  ...  1996       31.38\n",
              "238                                 Duck Hunt       Shooter  ...  1984       28.31\n",
              "1949              Pokemon Gold/Pokemon Silver  Role-Playing  ...  1999       23.09\n",
              "340                         Super Mario World      Platform  ...  1990       20.62\n",
              "315                          Super Mario Land      Platform  ...  1989       18.14\n",
              "303                       Super Mario Bros. 3      Platform  ...  1988       17.28\n",
              "1565  Pokémon Yellow: Special Pikachu Edition  Role-Playing  ...  1998       14.64\n",
              "915                            Super Mario 64      Platform  ...  1996       11.90\n",
              "403        Super Mario Land 2: 6 Golden Coins     Adventure  ...  1992       11.18\n",
              "1161                             Gran Turismo        Racing  ...  1997       10.95\n",
              "437                     Super Mario All-Stars      Platform  ...  1993       10.55\n",
              "827                             Mario Kart 64        Racing  ...  1996        9.87\n",
              "1266                        Final Fantasy VII  Role-Playing  ...  1997        9.72\n",
              "1891                           Gran Turismo 2        Racing  ...  1999        9.49\n",
              "537                       Donkey Kong Country      Platform  ...  1994        9.30\n",
              "409                          Super Mario Kart        Racing  ...  1992        8.77\n",
              "1282                            GoldenEye 007       Shooter  ...  1997        8.09\n",
              "1885                       Final Fantasy VIII  Role-Playing  ...  1999        7.86\n",
              "185                                   Pac-Man        Puzzle  ...  1982        7.81\n",
              "1105   Crash Bandicoot 2: Cortex Strikes Back      Platform  ...  1997        7.57\n",
              "296                       Super Mario Bros. 2      Platform  ...  1988        7.27\n",
              "1627                                 Tekken 3      Fighting  ...  1998        7.18\n",
              "1581                Crash Bandicoot 3: Warped      Platform  ...  1998        7.13\n",
              "964                           Crash Bandicoot      Platform  ...  1996        6.82\n",
              "268                       The Legend of Zelda        Action  ...  1986        6.50\n",
              "421      Street Fighter II: The World Warrior      Fighting  ...  1992        6.29\n",
              "1787                                   Driver        Action  ...  1999        6.26\n",
              "1428                         Metal Gear Solid        Action  ...  1998        6.03\n",
              "397                      Sonic the Hedgehog 2      Platform  ...  1992        6.02\n",
              "\n",
              "[30 rows x 6 columns]"
            ]
          },
          "metadata": {
            "tags": []
          },
          "execution_count": 233
        }
      ]
    },
    {
      "cell_type": "code",
      "metadata": {
        "colab": {
          "base_uri": "https://localhost:8080/",
          "height": 510
        },
        "id": "kUUlM6IhZY-W",
        "outputId": "12ed3d20-5631-466c-ac66-2c946f1b5b19"
      },
      "source": [
        "#장르별 시각화\n",
        "top1_plot = top1.groupby(\"Genre\").sum().plot(kind='barh')\n",
        "top1_plot.set_xlabel(\"Sales\")\n",
        "top1_plot.set_ylabel(\"Genre\")"
      ],
      "execution_count": null,
      "outputs": [
        {
          "output_type": "execute_result",
          "data": {
            "text/plain": [
              "Text(0, 0.5, 'Genre')"
            ]
          },
          "metadata": {
            "tags": []
          },
          "execution_count": 214
        },
        {
          "output_type": "display_data",
          "data": {
            "image/png": "[encoded data removed]",
            "text/plain": [
              "<Figure size 2880x864 with 1 Axes>"
            ]
          },
          "metadata": {
            "tags": [],
            "needs_background": "light"
          }
        }
      ]
    },
    {
      "cell_type": "code",
      "metadata": {
        "colab": {
          "base_uri": "https://localhost:8080/",
          "height": 516
        },
        "id": "kzzhSxyE9KVo",
        "outputId": "f2eaf2ce-5a8e-443d-c42a-b94ef40ff799"
      },
      "source": [
        "#플랫폼별 시각화\n",
        "top1_plot = top1.groupby(\"Platform\").sum().plot(kind='barh')\n",
        "top1_plot.set_xlabel(\"Sales\")\n",
        "top1_plot.set_ylabel(\"Platform\")"
      ],
      "execution_count": null,
      "outputs": [
        {
          "output_type": "execute_result",
          "data": {
            "text/plain": [
              "Text(0, 0.5, 'Platform')"
            ]
          },
          "metadata": {
            "tags": []
          },
          "execution_count": 215
        },
        {
          "output_type": "display_data",
          "data": {
            "image/png": "[encoded data removed]",
            "text/plain": [
              "<Figure size 2880x864 with 1 Axes>"
            ]
          },
          "metadata": {
            "tags": [],
            "needs_background": "light"
          }
        }
      ]
    },
    {
      "cell_type": "code",
      "metadata": {
        "id": "_XlGP2UvQ0rs",
        "colab": {
          "base_uri": "https://localhost:8080/",
          "height": 653
        },
        "outputId": "058cb9a6-d7e4-4f74-fffd-b97ebd03f33d"
      },
      "source": [
        "#3.4 Top 100 2000년도 Top 100 게임\n",
        "df_sort = df2.sort_values(['Total_Sales'], ascending=False)\n",
        "df_sort2 = df_sort[['Name','Genre','Publisher','Platform','Year','Total_Sales']]\n",
        "df_sort2 = df_sort2[df_sort2['Year'].between(2000, 2009)]\n",
        "top2 = df_sort2.drop(['Year'], axis=1)\n",
        "top2 = top2[:100]\n",
        "df_sort2.iloc[:20]"
      ],
      "execution_count": null,
      "outputs": [
        {
          "output_type": "execute_result",
          "data": {
            "text/html": [
              "<div>\n",
              "<style scoped>\n",
              "    .dataframe tbody tr th:only-of-type {\n",
              "        vertical-align: middle;\n",
              "    }\n",
              "\n",
              "    .dataframe tbody tr th {\n",
              "        vertical-align: top;\n",
              "    }\n",
              "\n",
              "    .dataframe thead th {\n",
              "        text-align: right;\n",
              "    }\n",
              "</style>\n",
              "<table border=\"1\" class=\"dataframe\">\n",
              "  <thead>\n",
              "    <tr style=\"text-align: right;\">\n",
              "      <th></th>\n",
              "      <th>Name</th>\n",
              "      <th>Genre</th>\n",
              "      <th>Publisher</th>\n",
              "      <th>Platform</th>\n",
              "      <th>Year</th>\n",
              "      <th>Total_Sales</th>\n",
              "    </tr>\n",
              "  </thead>\n",
              "  <tbody>\n",
              "    <tr>\n",
              "      <th>6476</th>\n",
              "      <td>Wii Sports</td>\n",
              "      <td>Sports</td>\n",
              "      <td>Nintendo</td>\n",
              "      <td>Wii</td>\n",
              "      <td>2006</td>\n",
              "      <td>82.74</td>\n",
              "    </tr>\n",
              "    <tr>\n",
              "      <th>9627</th>\n",
              "      <td>Mario Kart Wii</td>\n",
              "      <td>Racing</td>\n",
              "      <td>Nintendo</td>\n",
              "      <td>Wii</td>\n",
              "      <td>2008</td>\n",
              "      <td>35.83</td>\n",
              "    </tr>\n",
              "    <tr>\n",
              "      <th>10278</th>\n",
              "      <td>Wii Sports Resort</td>\n",
              "      <td>Sports</td>\n",
              "      <td>Nintendo</td>\n",
              "      <td>Wii</td>\n",
              "      <td>2009</td>\n",
              "      <td>33.00</td>\n",
              "    </tr>\n",
              "    <tr>\n",
              "      <th>6700</th>\n",
              "      <td>New Super Mario Bros.</td>\n",
              "      <td>Platform</td>\n",
              "      <td>Nintendo</td>\n",
              "      <td>DS</td>\n",
              "      <td>2006</td>\n",
              "      <td>30.01</td>\n",
              "    </tr>\n",
              "    <tr>\n",
              "      <th>6487</th>\n",
              "      <td>Wii Play</td>\n",
              "      <td>Misc</td>\n",
              "      <td>Nintendo</td>\n",
              "      <td>Wii</td>\n",
              "      <td>2006</td>\n",
              "      <td>29.01</td>\n",
              "    </tr>\n",
              "    <tr>\n",
              "      <th>11397</th>\n",
              "      <td>New Super Mario Bros. Wii</td>\n",
              "      <td>Platform</td>\n",
              "      <td>Nintendo</td>\n",
              "      <td>Wii</td>\n",
              "      <td>2009</td>\n",
              "      <td>28.61</td>\n",
              "    </tr>\n",
              "    <tr>\n",
              "      <th>5962</th>\n",
              "      <td>Nintendogs</td>\n",
              "      <td>Simulation</td>\n",
              "      <td>Nintendo</td>\n",
              "      <td>DS</td>\n",
              "      <td>2005</td>\n",
              "      <td>24.75</td>\n",
              "    </tr>\n",
              "    <tr>\n",
              "      <th>5940</th>\n",
              "      <td>Mario Kart DS</td>\n",
              "      <td>Racing</td>\n",
              "      <td>Nintendo</td>\n",
              "      <td>DS</td>\n",
              "      <td>2005</td>\n",
              "      <td>23.43</td>\n",
              "    </tr>\n",
              "    <tr>\n",
              "      <th>7564</th>\n",
              "      <td>Wii Fit</td>\n",
              "      <td>Sports</td>\n",
              "      <td>Nintendo</td>\n",
              "      <td>Wii</td>\n",
              "      <td>2007</td>\n",
              "      <td>22.72</td>\n",
              "    </tr>\n",
              "    <tr>\n",
              "      <th>10919</th>\n",
              "      <td>Wii Fit Plus</td>\n",
              "      <td>Sports</td>\n",
              "      <td>Nintendo</td>\n",
              "      <td>Wii</td>\n",
              "      <td>2009</td>\n",
              "      <td>22.00</td>\n",
              "    </tr>\n",
              "    <tr>\n",
              "      <th>5234</th>\n",
              "      <td>Grand Theft Auto: San Andreas</td>\n",
              "      <td>Action</td>\n",
              "      <td>Take-Two Interactive</td>\n",
              "      <td>PS2</td>\n",
              "      <td>2004</td>\n",
              "      <td>20.81</td>\n",
              "    </tr>\n",
              "    <tr>\n",
              "      <th>6094</th>\n",
              "      <td>Brain Age: Train Your Brain in Minutes a Day</td>\n",
              "      <td>Misc</td>\n",
              "      <td>Nintendo</td>\n",
              "      <td>DS</td>\n",
              "      <td>2005</td>\n",
              "      <td>20.22</td>\n",
              "    </tr>\n",
              "    <tr>\n",
              "      <th>6915</th>\n",
              "      <td>Pokemon Diamond/Pokemon Pearl</td>\n",
              "      <td>Role-Playing</td>\n",
              "      <td>Nintendo</td>\n",
              "      <td>DS</td>\n",
              "      <td>2006</td>\n",
              "      <td>18.35</td>\n",
              "    </tr>\n",
              "    <tr>\n",
              "      <th>3217</th>\n",
              "      <td>Grand Theft Auto: Vice City</td>\n",
              "      <td>Action</td>\n",
              "      <td>Take-Two Interactive</td>\n",
              "      <td>PS2</td>\n",
              "      <td>2002</td>\n",
              "      <td>16.15</td>\n",
              "    </tr>\n",
              "    <tr>\n",
              "      <th>3499</th>\n",
              "      <td>Pokemon Ruby/Pokemon Sapphire</td>\n",
              "      <td>Role-Playing</td>\n",
              "      <td>Nintendo</td>\n",
              "      <td>GBA</td>\n",
              "      <td>2002</td>\n",
              "      <td>15.84</td>\n",
              "    </tr>\n",
              "    <tr>\n",
              "      <th>5376</th>\n",
              "      <td>Brain Age 2: More Training in Minutes a Day</td>\n",
              "      <td>Puzzle</td>\n",
              "      <td>Nintendo</td>\n",
              "      <td>DS</td>\n",
              "      <td>2005</td>\n",
              "      <td>15.30</td>\n",
              "    </tr>\n",
              "    <tr>\n",
              "      <th>2477</th>\n",
              "      <td>Gran Turismo 3: A-Spec</td>\n",
              "      <td>Racing</td>\n",
              "      <td>Sony Computer Entertainment</td>\n",
              "      <td>PS2</td>\n",
              "      <td>2001</td>\n",
              "      <td>14.97</td>\n",
              "    </tr>\n",
              "    <tr>\n",
              "      <th>2741</th>\n",
              "      <td>Grand Theft Auto III</td>\n",
              "      <td>Action</td>\n",
              "      <td>Take-Two Interactive</td>\n",
              "      <td>PS2</td>\n",
              "      <td>2001</td>\n",
              "      <td>13.10</td>\n",
              "    </tr>\n",
              "    <tr>\n",
              "      <th>9821</th>\n",
              "      <td>Super Smash Bros. Brawl</td>\n",
              "      <td>Fighting</td>\n",
              "      <td>Nintendo</td>\n",
              "      <td>Wii</td>\n",
              "      <td>2008</td>\n",
              "      <td>13.04</td>\n",
              "    </tr>\n",
              "    <tr>\n",
              "      <th>5539</th>\n",
              "      <td>Animal Crossing: Wild World</td>\n",
              "      <td>Simulation</td>\n",
              "      <td>Nintendo</td>\n",
              "      <td>DS</td>\n",
              "      <td>2005</td>\n",
              "      <td>12.28</td>\n",
              "    </tr>\n",
              "  </tbody>\n",
              "</table>\n",
              "</div>"
            ],
            "text/plain": [
              "                                               Name  ... Total_Sales\n",
              "6476                                     Wii Sports  ...       82.74\n",
              "9627                                 Mario Kart Wii  ...       35.83\n",
              "10278                             Wii Sports Resort  ...       33.00\n",
              "6700                          New Super Mario Bros.  ...       30.01\n",
              "6487                                       Wii Play  ...       29.01\n",
              "11397                     New Super Mario Bros. Wii  ...       28.61\n",
              "5962                                     Nintendogs  ...       24.75\n",
              "5940                                  Mario Kart DS  ...       23.43\n",
              "7564                                        Wii Fit  ...       22.72\n",
              "10919                                  Wii Fit Plus  ...       22.00\n",
              "5234                  Grand Theft Auto: San Andreas  ...       20.81\n",
              "6094   Brain Age: Train Your Brain in Minutes a Day  ...       20.22\n",
              "6915                  Pokemon Diamond/Pokemon Pearl  ...       18.35\n",
              "3217                    Grand Theft Auto: Vice City  ...       16.15\n",
              "3499                  Pokemon Ruby/Pokemon Sapphire  ...       15.84\n",
              "5376    Brain Age 2: More Training in Minutes a Day  ...       15.30\n",
              "2477                         Gran Turismo 3: A-Spec  ...       14.97\n",
              "2741                           Grand Theft Auto III  ...       13.10\n",
              "9821                        Super Smash Bros. Brawl  ...       13.04\n",
              "5539                    Animal Crossing: Wild World  ...       12.28\n",
              "\n",
              "[20 rows x 6 columns]"
            ]
          },
          "metadata": {
            "tags": []
          },
          "execution_count": 217
        }
      ]
    },
    {
      "cell_type": "code",
      "metadata": {
        "colab": {
          "base_uri": "https://localhost:8080/",
          "height": 510
        },
        "id": "DtShoypv837z",
        "outputId": "a66fbbef-9e10-4a96-d68f-62bac6ae8093"
      },
      "source": [
        "#장르별 시각화\n",
        "top2_plot = top2.groupby(\"Genre\").sum().plot(kind='barh')\n",
        "top2_plot.set_xlabel(\"Sales\")\n",
        "top2_plot.set_ylabel(\"Genre\")"
      ],
      "execution_count": null,
      "outputs": [
        {
          "output_type": "execute_result",
          "data": {
            "text/plain": [
              "Text(0, 0.5, 'Genre')"
            ]
          },
          "metadata": {
            "tags": []
          },
          "execution_count": 25
        },
        {
          "output_type": "display_data",
          "data": {
            "image/png": "[encoded data removed]",
            "text/plain": [
              "<Figure size 2880x864 with 1 Axes>"
            ]
          },
          "metadata": {
            "tags": [],
            "needs_background": "light"
          }
        }
      ]
    },
    {
      "cell_type": "code",
      "metadata": {
        "colab": {
          "base_uri": "https://localhost:8080/",
          "height": 516
        },
        "id": "B7LT-6ZQ9VmR",
        "outputId": "d54daf65-6644-4456-99b6-125cfd6dc712"
      },
      "source": [
        "#플랫폼별 시각화\n",
        "top2_plot = top2.groupby(\"Platform\").sum().plot(kind='barh')\n",
        "top2_plot.set_xlabel(\"Sales\")\n",
        "top2_plot.set_ylabel(\"Platform\")"
      ],
      "execution_count": null,
      "outputs": [
        {
          "output_type": "execute_result",
          "data": {
            "text/plain": [
              "Text(0, 0.5, 'Platform')"
            ]
          },
          "metadata": {
            "tags": []
          },
          "execution_count": 26
        },
        {
          "output_type": "display_data",
          "data": {
            "image/png": "[encoded data removed]",
            "text/plain": [
              "<Figure size 2880x864 with 1 Axes>"
            ]
          },
          "metadata": {
            "tags": [],
            "needs_background": "light"
          }
        }
      ]
    },
    {
      "cell_type": "code",
      "metadata": {
        "id": "GA4YXLEnUKSC",
        "colab": {
          "base_uri": "https://localhost:8080/",
          "height": 653
        },
        "outputId": "b3c11be6-2a4a-4370-c21a-699b894e8e4c"
      },
      "source": [
        "#3.4 Top 100 2010년도 게임\n",
        "df_sort = df2.sort_values(['Total_Sales'], ascending=False)\n",
        "df_sort3 = df_sort[['Name','Genre','Publisher','Platform','Year','Total_Sales']]\n",
        "df_sort3 = df_sort3[df_sort3['Year'].between(2010, 2020)]\n",
        "top3 = df_sort3.drop(['Year'], axis=1)\n",
        "top3 = top3.iloc[:100]\n",
        "df_sort3.iloc[:20]"
      ],
      "execution_count": null,
      "outputs": [
        {
          "output_type": "execute_result",
          "data": {
            "text/html": [
              "<div>\n",
              "<style scoped>\n",
              "    .dataframe tbody tr th:only-of-type {\n",
              "        vertical-align: middle;\n",
              "    }\n",
              "\n",
              "    .dataframe tbody tr th {\n",
              "        vertical-align: top;\n",
              "    }\n",
              "\n",
              "    .dataframe thead th {\n",
              "        text-align: right;\n",
              "    }\n",
              "</style>\n",
              "<table border=\"1\" class=\"dataframe\">\n",
              "  <thead>\n",
              "    <tr style=\"text-align: right;\">\n",
              "      <th></th>\n",
              "      <th>Name</th>\n",
              "      <th>Genre</th>\n",
              "      <th>Publisher</th>\n",
              "      <th>Platform</th>\n",
              "      <th>Year</th>\n",
              "      <th>Total_Sales</th>\n",
              "    </tr>\n",
              "  </thead>\n",
              "  <tbody>\n",
              "    <tr>\n",
              "      <th>11739</th>\n",
              "      <td>Kinect Adventures!</td>\n",
              "      <td>Misc</td>\n",
              "      <td>Microsoft Game Studios</td>\n",
              "      <td>X360</td>\n",
              "      <td>2010</td>\n",
              "      <td>21.82</td>\n",
              "    </tr>\n",
              "    <tr>\n",
              "      <th>14630</th>\n",
              "      <td>Grand Theft Auto V</td>\n",
              "      <td>Action</td>\n",
              "      <td>Take-Two Interactive</td>\n",
              "      <td>PS3</td>\n",
              "      <td>2013</td>\n",
              "      <td>21.39</td>\n",
              "    </tr>\n",
              "    <tr>\n",
              "      <th>59</th>\n",
              "      <td>Pokemon Black/Pokemon White</td>\n",
              "      <td>Role-Playing</td>\n",
              "      <td>Nintendo</td>\n",
              "      <td>DS</td>\n",
              "      <td>2010</td>\n",
              "      <td>15.32</td>\n",
              "    </tr>\n",
              "    <tr>\n",
              "      <th>12910</th>\n",
              "      <td>Call of Duty: Modern Warfare 3</td>\n",
              "      <td>Shooter</td>\n",
              "      <td>Activision</td>\n",
              "      <td>X360</td>\n",
              "      <td>2011</td>\n",
              "      <td>14.76</td>\n",
              "    </tr>\n",
              "    <tr>\n",
              "      <th>15962</th>\n",
              "      <td>Call of Duty: Black Ops 3</td>\n",
              "      <td>Shooter</td>\n",
              "      <td>Activision</td>\n",
              "      <td>PS4</td>\n",
              "      <td>2015</td>\n",
              "      <td>14.24</td>\n",
              "    </tr>\n",
              "    <tr>\n",
              "      <th>14017</th>\n",
              "      <td>Call of Duty: Black Ops II</td>\n",
              "      <td>Shooter</td>\n",
              "      <td>Activision</td>\n",
              "      <td>PS3</td>\n",
              "      <td>2012</td>\n",
              "      <td>14.04</td>\n",
              "    </tr>\n",
              "    <tr>\n",
              "      <th>13473</th>\n",
              "      <td>Mario Kart 7</td>\n",
              "      <td>Racing</td>\n",
              "      <td>Nintendo</td>\n",
              "      <td>3DS</td>\n",
              "      <td>2011</td>\n",
              "      <td>12.21</td>\n",
              "    </tr>\n",
              "    <tr>\n",
              "      <th>15222</th>\n",
              "      <td>Pokemon Omega Ruby/Pokemon Alpha Sapphire</td>\n",
              "      <td>Role-Playing</td>\n",
              "      <td>Nintendo</td>\n",
              "      <td>3DS</td>\n",
              "      <td>2014</td>\n",
              "      <td>11.33</td>\n",
              "    </tr>\n",
              "    <tr>\n",
              "      <th>13564</th>\n",
              "      <td>Super Mario 3D Land</td>\n",
              "      <td>Platform</td>\n",
              "      <td>Nintendo</td>\n",
              "      <td>3DS</td>\n",
              "      <td>2011</td>\n",
              "      <td>10.79</td>\n",
              "    </tr>\n",
              "    <tr>\n",
              "      <th>11869</th>\n",
              "      <td>Gran Turismo 5</td>\n",
              "      <td>Racing</td>\n",
              "      <td>Sony Computer Entertainment</td>\n",
              "      <td>PS3</td>\n",
              "      <td>2010</td>\n",
              "      <td>10.77</td>\n",
              "    </tr>\n",
              "    <tr>\n",
              "      <th>12736</th>\n",
              "      <td>Just Dance 3</td>\n",
              "      <td>Misc</td>\n",
              "      <td>Ubisoft</td>\n",
              "      <td>Wii</td>\n",
              "      <td>2011</td>\n",
              "      <td>10.27</td>\n",
              "    </tr>\n",
              "    <tr>\n",
              "      <th>12385</th>\n",
              "      <td>Halo: Reach</td>\n",
              "      <td>Shooter</td>\n",
              "      <td>Microsoft Game Studios</td>\n",
              "      <td>X360</td>\n",
              "      <td>2010</td>\n",
              "      <td>9.87</td>\n",
              "    </tr>\n",
              "    <tr>\n",
              "      <th>14270</th>\n",
              "      <td>New Super Mario Bros. 2</td>\n",
              "      <td>Platform</td>\n",
              "      <td>Nintendo</td>\n",
              "      <td>3DS</td>\n",
              "      <td>2012</td>\n",
              "      <td>9.83</td>\n",
              "    </tr>\n",
              "    <tr>\n",
              "      <th>14437</th>\n",
              "      <td>Halo 4</td>\n",
              "      <td>Shooter</td>\n",
              "      <td>Microsoft Game Studios</td>\n",
              "      <td>X360</td>\n",
              "      <td>2012</td>\n",
              "      <td>9.76</td>\n",
              "    </tr>\n",
              "    <tr>\n",
              "      <th>12116</th>\n",
              "      <td>Just Dance 2</td>\n",
              "      <td>Misc</td>\n",
              "      <td>Ubisoft</td>\n",
              "      <td>Wii</td>\n",
              "      <td>2010</td>\n",
              "      <td>9.52</td>\n",
              "    </tr>\n",
              "    <tr>\n",
              "      <th>14855</th>\n",
              "      <td>Minecraft</td>\n",
              "      <td>Misc</td>\n",
              "      <td>Microsoft Game Studios</td>\n",
              "      <td>X360</td>\n",
              "      <td>2013</td>\n",
              "      <td>9.20</td>\n",
              "    </tr>\n",
              "    <tr>\n",
              "      <th>14216</th>\n",
              "      <td>Animal Crossing: New Leaf</td>\n",
              "      <td>Simulation</td>\n",
              "      <td>Nintendo</td>\n",
              "      <td>3DS</td>\n",
              "      <td>2012</td>\n",
              "      <td>9.10</td>\n",
              "    </tr>\n",
              "    <tr>\n",
              "      <th>69</th>\n",
              "      <td>The Elder Scrolls V: Skyrim</td>\n",
              "      <td>Role-Playing</td>\n",
              "      <td>Bethesda Softworks</td>\n",
              "      <td>X360</td>\n",
              "      <td>2011</td>\n",
              "      <td>8.84</td>\n",
              "    </tr>\n",
              "    <tr>\n",
              "      <th>15732</th>\n",
              "      <td>FIFA 16</td>\n",
              "      <td>Sports</td>\n",
              "      <td>Electronic Arts</td>\n",
              "      <td>PS4</td>\n",
              "      <td>2015</td>\n",
              "      <td>8.49</td>\n",
              "    </tr>\n",
              "    <tr>\n",
              "      <th>14483</th>\n",
              "      <td>Pokemon Black 2/Pokemon White 2</td>\n",
              "      <td>Role-Playing</td>\n",
              "      <td>Nintendo</td>\n",
              "      <td>DS</td>\n",
              "      <td>2012</td>\n",
              "      <td>8.34</td>\n",
              "    </tr>\n",
              "  </tbody>\n",
              "</table>\n",
              "</div>"
            ],
            "text/plain": [
              "                                            Name  ... Total_Sales\n",
              "11739                         Kinect Adventures!  ...       21.82\n",
              "14630                         Grand Theft Auto V  ...       21.39\n",
              "59                   Pokemon Black/Pokemon White  ...       15.32\n",
              "12910             Call of Duty: Modern Warfare 3  ...       14.76\n",
              "15962                  Call of Duty: Black Ops 3  ...       14.24\n",
              "14017                 Call of Duty: Black Ops II  ...       14.04\n",
              "13473                               Mario Kart 7  ...       12.21\n",
              "15222  Pokemon Omega Ruby/Pokemon Alpha Sapphire  ...       11.33\n",
              "13564                        Super Mario 3D Land  ...       10.79\n",
              "11869                             Gran Turismo 5  ...       10.77\n",
              "12736                               Just Dance 3  ...       10.27\n",
              "12385                                Halo: Reach  ...        9.87\n",
              "14270                    New Super Mario Bros. 2  ...        9.83\n",
              "14437                                     Halo 4  ...        9.76\n",
              "12116                               Just Dance 2  ...        9.52\n",
              "14855                                  Minecraft  ...        9.20\n",
              "14216                  Animal Crossing: New Leaf  ...        9.10\n",
              "69                   The Elder Scrolls V: Skyrim  ...        8.84\n",
              "15732                                    FIFA 16  ...        8.49\n",
              "14483            Pokemon Black 2/Pokemon White 2  ...        8.34\n",
              "\n",
              "[20 rows x 6 columns]"
            ]
          },
          "metadata": {
            "tags": []
          },
          "execution_count": 216
        }
      ]
    },
    {
      "cell_type": "code",
      "metadata": {
        "colab": {
          "base_uri": "https://localhost:8080/",
          "height": 510
        },
        "id": "8F4Sm53d_FJQ",
        "outputId": "f6bde65a-7a9b-4819-8aac-70599438c854"
      },
      "source": [
        "#장르별 시각화\n",
        "top3_plot = top3.groupby(\"Genre\").sum().plot(kind='barh')\n",
        "top3_plot.set_xlabel(\"Sales\")\n",
        "top3_plot.set_ylabel(\"Genre\")"
      ],
      "execution_count": null,
      "outputs": [
        {
          "output_type": "execute_result",
          "data": {
            "text/plain": [
              "Text(0, 0.5, 'Genre')"
            ]
          },
          "metadata": {
            "tags": []
          },
          "execution_count": 89
        },
        {
          "output_type": "display_data",
          "data": {
            "image/png": "[encoded data removed]",
            "text/plain": [
              "<Figure size 2880x864 with 1 Axes>"
            ]
          },
          "metadata": {
            "tags": [],
            "needs_background": "light"
          }
        }
      ]
    },
    {
      "cell_type": "code",
      "metadata": {
        "colab": {
          "base_uri": "https://localhost:8080/",
          "height": 516
        },
        "id": "Kg1Px7vQ_Ev9",
        "outputId": "790d545e-5a9c-4b6d-8de5-cc4b68ad01fd"
      },
      "source": [
        "#플랫폼별 시각화\n",
        "top3_plot = top3.groupby(\"Platform\").sum().plot(kind='barh')\n",
        "top3_plot.set_xlabel(\"Sales\")\n",
        "top3_plot.set_ylabel(\"Platform\")"
      ],
      "execution_count": null,
      "outputs": [
        {
          "output_type": "execute_result",
          "data": {
            "text/plain": [
              "Text(0, 0.5, 'Platform')"
            ]
          },
          "metadata": {
            "tags": []
          },
          "execution_count": 29
        },
        {
          "output_type": "display_data",
          "data": {
            "image/png": "[encoded data removed]",
            "text/plain": [
              "<Figure size 2880x864 with 1 Axes>"
            ]
          },
          "metadata": {
            "tags": [],
            "needs_background": "light"
          }
        }
      ]
    },
    {
      "cell_type": "code",
      "metadata": {
        "colab": {
          "base_uri": "https://localhost:8080/"
        },
        "id": "3YaGXQTjotAW",
        "outputId": "125403e5-b93c-4f84-b1dc-4995a7a3bd93"
      },
      "source": [
        "#1900년대 장르별 경쟁업체\n",
        "count1 = df_sort1.iloc[:100]\n",
        "count1 = pd.crosstab(count1.Genre, count1.Year)\n",
        "count1 = count1.T\n",
        "count1['Top'] = count1.idxmax(axis=1)\n",
        "count1['Count'] = count1.max(axis=1)\n",
        "count1 = count1.reset_index()\n",
        "count1 = count1[count1['Year'].between(1977, 1999)]\n",
        "Platform = count1['Platform'].sum()\n",
        "Role_Playing = count1['Role-Playing'].sum()\n",
        "Action = count1['Action'].sum()\n",
        "print(Platform, Role_Playing, Action)"
      ],
      "execution_count": null,
      "outputs": [
        {
          "output_type": "stream",
          "text": [
            "27 8 16\n"
          ],
          "name": "stdout"
        }
      ]
    },
    {
      "cell_type": "code",
      "metadata": {
        "colab": {
          "base_uri": "https://localhost:8080/"
        },
        "id": "Wg40WqCvs7nq",
        "outputId": "8eb73677-3c89-44bd-897b-b094e6028183"
      },
      "source": [
        "#1900년대 플랫폼별 경쟁업체\n",
        "pcount1 = df_sort1[:100]\n",
        "pcount1 = pd.crosstab(pcount1.Platform, pcount1.Year)\n",
        "pcount1 = pcount1.T\n",
        "pcount1['Top'] = pcount1.idxmax(axis=1)\n",
        "pcount1['Count'] = pcount1.max(axis=1)\n",
        "pcount1 = pcount1.reset_index()\n",
        "pcount1 = pcount1[pcount1['Year'].between(1977, 1999)]\n",
        "PS = pcount1['PS'].sum()\n",
        "GB = pcount1['GB'].sum()\n",
        "N64 = pcount1['N64'].sum()\n",
        "print(Platform, GB, N64)"
      ],
      "execution_count": null,
      "outputs": [
        {
          "output_type": "stream",
          "text": [
            "27 13 14\n"
          ],
          "name": "stdout"
        }
      ]
    },
    {
      "cell_type": "code",
      "metadata": {
        "colab": {
          "base_uri": "https://localhost:8080/"
        },
        "id": "EcvDLee7ouyq",
        "outputId": "d2fbba26-8a10-48a5-901e-800fef87622b"
      },
      "source": [
        "#2000년대 장르별 경쟁업체\n",
        "count2 = df_sort2.iloc[:100]\n",
        "count2 = pd.crosstab(count2.Genre, count2.Year)\n",
        "count2 = count2.T\n",
        "count2['Top'] = count2.idxmax(axis=1)\n",
        "count2['Count'] = count2.max(axis=1)\n",
        "count2 = count2.reset_index()\n",
        "count2 = count2[count2['Year'].between(2000, 2009)]\n",
        "Action = count2['Action'].sum()\n",
        "Role_Playing = count2['Role-Playing'].sum()\n",
        "Sports = count2['Sports'].sum()\n",
        "print(Action, Role_Playing, Sports)"
      ],
      "execution_count": null,
      "outputs": [
        {
          "output_type": "stream",
          "text": [
            "19 20 8\n"
          ],
          "name": "stdout"
        }
      ]
    },
    {
      "cell_type": "code",
      "metadata": {
        "colab": {
          "base_uri": "https://localhost:8080/"
        },
        "id": "BdjocotGtn4D",
        "outputId": "ef0bbc5b-c10f-4c0d-e0f1-a079709060d4"
      },
      "source": [
        "#2000년대 플랫폼별 경쟁업체\n",
        "pcount2 = df_sort2[:100]\n",
        "pcount2 = pd.crosstab(pcount2.Platform, pcount2.Year)\n",
        "pcount2 = pcount2.T\n",
        "pcount2['Top'] = pcount2.idxmax(axis=1)\n",
        "pcount2['Count'] = pcount2.max(axis=1)\n",
        "pcount2 = pcount2.reset_index()\n",
        "pcount2 = pcount2[pcount2['Year'].between(2000, 2009)]\n",
        "PS2 = pcount2['PS2'].sum()\n",
        "DS = pcount2['DS'].sum()\n",
        "Wii = pcount2['Wii'].sum()\n",
        "print(Platform, DS, Wii)"
      ],
      "execution_count": null,
      "outputs": [
        {
          "output_type": "stream",
          "text": [
            "27 17 18\n"
          ],
          "name": "stdout"
        }
      ]
    },
    {
      "cell_type": "code",
      "metadata": {
        "colab": {
          "base_uri": "https://localhost:8080/"
        },
        "id": "0PtNkoRPoxPS",
        "outputId": "a7792fa0-9892-45eb-b97a-3644d10f1421"
      },
      "source": [
        "#2010년대 장르별 경쟁업체\n",
        "count3 = df_sort3.iloc[:100]\n",
        "count3 = pd.crosstab(count3.Genre, count3.Year)\n",
        "count3 = count3.T\n",
        "count3['Top'] = count3.idxmax(axis=1)\n",
        "count3['Count'] = count3.max(axis=1)\n",
        "count3 = count3.reset_index()\n",
        "count3 = count3[count3['Year'].between(2010, 2020)]\n",
        "Action = count3['Action'].sum()\n",
        "Role_Playing = count3['Role-Playing'].sum()\n",
        "Shooter = count3['Shooter'].sum()\n",
        "print(Action, Role_Playing, Shooter)"
      ],
      "execution_count": null,
      "outputs": [
        {
          "output_type": "stream",
          "text": [
            "19 15 21\n"
          ],
          "name": "stdout"
        }
      ]
    },
    {
      "cell_type": "code",
      "metadata": {
        "colab": {
          "base_uri": "https://localhost:8080/"
        },
        "id": "HngYFb41ul0e",
        "outputId": "54318b5d-f3bc-41a5-9624-15de0b8a84c0"
      },
      "source": [
        "#2010년대 플랫폼별 경쟁업체\n",
        "pcount3 = df_sort3[:100]\n",
        "pcount3 = pd.crosstab(pcount3.Platform, pcount3.Year)\n",
        "pcount3 = pcount3.T\n",
        "pcount3['Top'] = pcount3.idxmax(axis=1)\n",
        "pcount3['Count'] = pcount3.max(axis=1)\n",
        "pcount3 = pcount3.reset_index()\n",
        "pcount3 = pcount3[pcount3['Year'].between(2010, 2020)]\n",
        "PS3 = pcount3['PS3'].sum()\n",
        "X360 = pcount3['X360'].sum()\n",
        "Wii = pcount3['Wii'].sum()\n",
        "print(PS3, X360, Wii)"
      ],
      "execution_count": null,
      "outputs": [
        {
          "output_type": "stream",
          "text": [
            "19 21 12\n"
          ],
          "name": "stdout"
        }
      ]
    },
    {
      "cell_type": "code",
      "metadata": {
        "colab": {
          "base_uri": "https://localhost:8080/",
          "height": 562
        },
        "id": "-J4WO0KNGVAE",
        "outputId": "c8eca247-463a-40c3-ee64-1a4199ed794b"
      },
      "source": [
        "#플랫폼별 Sales 변화\n",
        "pd_sort1 = df_sort1.groupby(\"Platform\").sum()\n",
        "pd_sort2 = df_sort2.groupby(\"Platform\").sum()\n",
        "pd_sort3 = df_sort3.groupby(\"Platform\").sum()\n",
        "platform_sort = pd_sort2.copy()\n",
        "platform_sort = platform_sort.drop(['Total_Sales'], axis=1)\n",
        "platform_sort['Total_Sales1'] = (pd_sort1['Total_Sales'])\n",
        "platform_sort['Total_Sales2'] = (pd_sort2['Total_Sales'])\n",
        "platform_sort['Total_Sales3'] = (pd_sort3['Total_Sales'])\n",
        "platform_sort['Change1'] = (pd_sort2['Total_Sales'] - pd_sort1['Total_Sales'])\n",
        "platform_sort['Change2'] = (pd_sort3['Total_Sales'] - pd_sort2['Total_Sales'])\n",
        "platform_sort"
      ],
      "execution_count": null,
      "outputs": [
        {
          "output_type": "execute_result",
          "data": {
            "text/html": [
              "<div>\n",
              "<style scoped>\n",
              "    .dataframe tbody tr th:only-of-type {\n",
              "        vertical-align: middle;\n",
              "    }\n",
              "\n",
              "    .dataframe tbody tr th {\n",
              "        vertical-align: top;\n",
              "    }\n",
              "\n",
              "    .dataframe thead th {\n",
              "        text-align: right;\n",
              "    }\n",
              "</style>\n",
              "<table border=\"1\" class=\"dataframe\">\n",
              "  <thead>\n",
              "    <tr style=\"text-align: right;\">\n",
              "      <th></th>\n",
              "      <th>Year</th>\n",
              "      <th>Total_Sales1</th>\n",
              "      <th>Total_Sales2</th>\n",
              "      <th>Total_Sales3</th>\n",
              "      <th>Change1</th>\n",
              "      <th>Change2</th>\n",
              "    </tr>\n",
              "    <tr>\n",
              "      <th>Platform</th>\n",
              "      <th></th>\n",
              "      <th></th>\n",
              "      <th></th>\n",
              "      <th></th>\n",
              "      <th></th>\n",
              "      <th></th>\n",
              "    </tr>\n",
              "  </thead>\n",
              "  <tbody>\n",
              "    <tr>\n",
              "      <th>DC</th>\n",
              "      <td>58025</td>\n",
              "      <td>8.21</td>\n",
              "      <td>7.16</td>\n",
              "      <td>NaN</td>\n",
              "      <td>-1.05</td>\n",
              "      <td>NaN</td>\n",
              "    </tr>\n",
              "    <tr>\n",
              "      <th>DS</th>\n",
              "      <td>2756299</td>\n",
              "      <td>0.02</td>\n",
              "      <td>570.50</td>\n",
              "      <td>96.29</td>\n",
              "      <td>570.48</td>\n",
              "      <td>-474.21</td>\n",
              "    </tr>\n",
              "    <tr>\n",
              "      <th>GB</th>\n",
              "      <td>44009</td>\n",
              "      <td>179.38</td>\n",
              "      <td>22.86</td>\n",
              "      <td>NaN</td>\n",
              "      <td>-156.52</td>\n",
              "      <td>NaN</td>\n",
              "    </tr>\n",
              "    <tr>\n",
              "      <th>GBA</th>\n",
              "      <td>1249979</td>\n",
              "      <td>0.11</td>\n",
              "      <td>240.60</td>\n",
              "      <td>NaN</td>\n",
              "      <td>240.49</td>\n",
              "      <td>NaN</td>\n",
              "    </tr>\n",
              "    <tr>\n",
              "      <th>GC</th>\n",
              "      <td>526860</td>\n",
              "      <td>0.28</td>\n",
              "      <td>129.13</td>\n",
              "      <td>NaN</td>\n",
              "      <td>128.85</td>\n",
              "      <td>NaN</td>\n",
              "    </tr>\n",
              "    <tr>\n",
              "      <th>N64</th>\n",
              "      <td>102010</td>\n",
              "      <td>157.27</td>\n",
              "      <td>28.65</td>\n",
              "      <td>NaN</td>\n",
              "      <td>-128.62</td>\n",
              "      <td>NaN</td>\n",
              "    </tr>\n",
              "    <tr>\n",
              "      <th>PC</th>\n",
              "      <td>649950</td>\n",
              "      <td>45.72</td>\n",
              "      <td>71.92</td>\n",
              "      <td>74.53</td>\n",
              "      <td>26.20</td>\n",
              "      <td>2.61</td>\n",
              "    </tr>\n",
              "    <tr>\n",
              "      <th>PS</th>\n",
              "      <td>504131</td>\n",
              "      <td>543.69</td>\n",
              "      <td>114.45</td>\n",
              "      <td>NaN</td>\n",
              "      <td>-429.24</td>\n",
              "      <td>NaN</td>\n",
              "    </tr>\n",
              "    <tr>\n",
              "      <th>PS2</th>\n",
              "      <td>2998319</td>\n",
              "      <td>0.17</td>\n",
              "      <td>774.61</td>\n",
              "      <td>1.94</td>\n",
              "      <td>774.44</td>\n",
              "      <td>-772.67</td>\n",
              "    </tr>\n",
              "    <tr>\n",
              "      <th>PS3</th>\n",
              "      <td>379526</td>\n",
              "      <td>0.17</td>\n",
              "      <td>164.13</td>\n",
              "      <td>250.03</td>\n",
              "      <td>163.96</td>\n",
              "      <td>85.90</td>\n",
              "    </tr>\n",
              "    <tr>\n",
              "      <th>PSP</th>\n",
              "      <td>1013509</td>\n",
              "      <td>NaN</td>\n",
              "      <td>155.53</td>\n",
              "      <td>48.57</td>\n",
              "      <td>NaN</td>\n",
              "      <td>-106.96</td>\n",
              "    </tr>\n",
              "    <tr>\n",
              "      <th>PSV</th>\n",
              "      <td>2008</td>\n",
              "      <td>NaN</td>\n",
              "      <td>0.30</td>\n",
              "      <td>34.58</td>\n",
              "      <td>NaN</td>\n",
              "      <td>34.28</td>\n",
              "    </tr>\n",
              "    <tr>\n",
              "      <th>WS</th>\n",
              "      <td>4001</td>\n",
              "      <td>0.46</td>\n",
              "      <td>0.20</td>\n",
              "      <td>NaN</td>\n",
              "      <td>-0.26</td>\n",
              "      <td>NaN</td>\n",
              "    </tr>\n",
              "    <tr>\n",
              "      <th>Wii</th>\n",
              "      <td>1150622</td>\n",
              "      <td>0.05</td>\n",
              "      <td>556.91</td>\n",
              "      <td>138.92</td>\n",
              "      <td>556.86</td>\n",
              "      <td>-417.99</td>\n",
              "    </tr>\n",
              "    <tr>\n",
              "      <th>X360</th>\n",
              "      <td>594230</td>\n",
              "      <td>NaN</td>\n",
              "      <td>203.48</td>\n",
              "      <td>242.34</td>\n",
              "      <td>NaN</td>\n",
              "      <td>38.86</td>\n",
              "    </tr>\n",
              "    <tr>\n",
              "      <th>XB</th>\n",
              "      <td>917628</td>\n",
              "      <td>NaN</td>\n",
              "      <td>145.31</td>\n",
              "      <td>0.06</td>\n",
              "      <td>NaN</td>\n",
              "      <td>-145.25</td>\n",
              "    </tr>\n",
              "  </tbody>\n",
              "</table>\n",
              "</div>"
            ],
            "text/plain": [
              "             Year  Total_Sales1  Total_Sales2  Total_Sales3  Change1  Change2\n",
              "Platform                                                                     \n",
              "DC          58025          8.21          7.16           NaN    -1.05      NaN\n",
              "DS        2756299          0.02        570.50         96.29   570.48  -474.21\n",
              "GB          44009        179.38         22.86           NaN  -156.52      NaN\n",
              "GBA       1249979          0.11        240.60           NaN   240.49      NaN\n",
              "GC         526860          0.28        129.13           NaN   128.85      NaN\n",
              "N64        102010        157.27         28.65           NaN  -128.62      NaN\n",
              "PC         649950         45.72         71.92         74.53    26.20     2.61\n",
              "PS         504131        543.69        114.45           NaN  -429.24      NaN\n",
              "PS2       2998319          0.17        774.61          1.94   774.44  -772.67\n",
              "PS3        379526          0.17        164.13        250.03   163.96    85.90\n",
              "PSP       1013509           NaN        155.53         48.57      NaN  -106.96\n",
              "PSV          2008           NaN          0.30         34.58      NaN    34.28\n",
              "WS           4001          0.46          0.20           NaN    -0.26      NaN\n",
              "Wii       1150622          0.05        556.91        138.92   556.86  -417.99\n",
              "X360       594230           NaN        203.48        242.34      NaN    38.86\n",
              "XB         917628           NaN        145.31          0.06      NaN  -145.25"
            ]
          },
          "metadata": {
            "tags": []
          },
          "execution_count": 239
        }
      ]
    },
    {
      "cell_type": "code",
      "metadata": {
        "colab": {
          "base_uri": "https://localhost:8080/",
          "height": 441
        },
        "id": "G7xDrCKwKPQg",
        "outputId": "95dff851-86b8-47a3-eaa1-3e67820904a5"
      },
      "source": [
        "#장르별 Sales 변화\n",
        "gd_sort1 = df_sort1.groupby(\"Genre\").sum()\n",
        "gd_sort2 = df_sort2.groupby(\"Genre\").sum()\n",
        "gd_sort3 = df_sort3.groupby(\"Genre\").sum()\n",
        "genre_sort = gd_sort2.copy()\n",
        "genre_sort = genre_sort.drop(['Total_Sales'], axis=1)\n",
        "genre_sort['Total_Sales1'] = (gd_sort1['Total_Sales'])\n",
        "genre_sort['Total_Sales2'] = (gd_sort2['Total_Sales'])\n",
        "genre_sort['Total_Sales3'] = (gd_sort3['Total_Sales'])\n",
        "genre_sort['Change1'] = (gd_sort2['Total_Sales'] - gd_sort1['Total_Sales'])\n",
        "genre_sort['Change2'] = (gd_sort3['Total_Sales'] - gd_sort2['Total_Sales'])\n",
        "genre_sort"
      ],
      "execution_count": null,
      "outputs": [
        {
          "output_type": "execute_result",
          "data": {
            "text/html": [
              "<div>\n",
              "<style scoped>\n",
              "    .dataframe tbody tr th:only-of-type {\n",
              "        vertical-align: middle;\n",
              "    }\n",
              "\n",
              "    .dataframe tbody tr th {\n",
              "        vertical-align: top;\n",
              "    }\n",
              "\n",
              "    .dataframe thead th {\n",
              "        text-align: right;\n",
              "    }\n",
              "</style>\n",
              "<table border=\"1\" class=\"dataframe\">\n",
              "  <thead>\n",
              "    <tr style=\"text-align: right;\">\n",
              "      <th></th>\n",
              "      <th>Year</th>\n",
              "      <th>Total_Sales1</th>\n",
              "      <th>Total_Sales2</th>\n",
              "      <th>Total_Sales3</th>\n",
              "      <th>Change1</th>\n",
              "      <th>Change2</th>\n",
              "    </tr>\n",
              "    <tr>\n",
              "      <th>Genre</th>\n",
              "      <th></th>\n",
              "      <th></th>\n",
              "      <th></th>\n",
              "      <th></th>\n",
              "      <th></th>\n",
              "      <th></th>\n",
              "    </tr>\n",
              "  </thead>\n",
              "  <tbody>\n",
              "    <tr>\n",
              "      <th>Action</th>\n",
              "      <td>1885009</td>\n",
              "      <td>176.27</td>\n",
              "      <td>491.26</td>\n",
              "      <td>286.02</td>\n",
              "      <td>314.99</td>\n",
              "      <td>-205.24</td>\n",
              "    </tr>\n",
              "    <tr>\n",
              "      <th>Adventure</th>\n",
              "      <td>1065462</td>\n",
              "      <td>50.26</td>\n",
              "      <td>98.66</td>\n",
              "      <td>40.93</td>\n",
              "      <td>48.40</td>\n",
              "      <td>-57.73</td>\n",
              "    </tr>\n",
              "    <tr>\n",
              "      <th>Fighting</th>\n",
              "      <td>659622</td>\n",
              "      <td>114.87</td>\n",
              "      <td>161.20</td>\n",
              "      <td>36.88</td>\n",
              "      <td>46.33</td>\n",
              "      <td>-124.32</td>\n",
              "    </tr>\n",
              "    <tr>\n",
              "      <th>Misc</th>\n",
              "      <td>1542773</td>\n",
              "      <td>68.03</td>\n",
              "      <td>357.11</td>\n",
              "      <td>154.74</td>\n",
              "      <td>289.08</td>\n",
              "      <td>-202.37</td>\n",
              "    </tr>\n",
              "    <tr>\n",
              "      <th>Platform</th>\n",
              "      <td>707469</td>\n",
              "      <td>310.93</td>\n",
              "      <td>270.51</td>\n",
              "      <td>93.13</td>\n",
              "      <td>-40.42</td>\n",
              "      <td>-177.38</td>\n",
              "    </tr>\n",
              "    <tr>\n",
              "      <th>Puzzle</th>\n",
              "      <td>625938</td>\n",
              "      <td>61.92</td>\n",
              "      <td>110.38</td>\n",
              "      <td>18.65</td>\n",
              "      <td>48.46</td>\n",
              "      <td>-91.73</td>\n",
              "    </tr>\n",
              "    <tr>\n",
              "      <th>Racing</th>\n",
              "      <td>964081</td>\n",
              "      <td>152.85</td>\n",
              "      <td>300.79</td>\n",
              "      <td>72.16</td>\n",
              "      <td>147.94</td>\n",
              "      <td>-228.63</td>\n",
              "    </tr>\n",
              "    <tr>\n",
              "      <th>Role-Playing</th>\n",
              "      <td>1315627</td>\n",
              "      <td>190.44</td>\n",
              "      <td>364.92</td>\n",
              "      <td>193.12</td>\n",
              "      <td>174.48</td>\n",
              "      <td>-171.80</td>\n",
              "    </tr>\n",
              "    <tr>\n",
              "      <th>Shooter</th>\n",
              "      <td>950385</td>\n",
              "      <td>124.69</td>\n",
              "      <td>262.28</td>\n",
              "      <td>194.56</td>\n",
              "      <td>137.59</td>\n",
              "      <td>-67.72</td>\n",
              "    </tr>\n",
              "    <tr>\n",
              "      <th>Simulation</th>\n",
              "      <td>938960</td>\n",
              "      <td>46.56</td>\n",
              "      <td>220.37</td>\n",
              "      <td>56.55</td>\n",
              "      <td>173.81</td>\n",
              "      <td>-163.82</td>\n",
              "    </tr>\n",
              "    <tr>\n",
              "      <th>Sports</th>\n",
              "      <td>1637950</td>\n",
              "      <td>162.94</td>\n",
              "      <td>477.10</td>\n",
              "      <td>109.45</td>\n",
              "      <td>314.16</td>\n",
              "      <td>-367.65</td>\n",
              "    </tr>\n",
              "    <tr>\n",
              "      <th>Strategy</th>\n",
              "      <td>657830</td>\n",
              "      <td>54.53</td>\n",
              "      <td>71.16</td>\n",
              "      <td>28.03</td>\n",
              "      <td>16.63</td>\n",
              "      <td>-43.13</td>\n",
              "    </tr>\n",
              "  </tbody>\n",
              "</table>\n",
              "</div>"
            ],
            "text/plain": [
              "                 Year  Total_Sales1  ...  Change1  Change2\n",
              "Genre                                ...                  \n",
              "Action        1885009        176.27  ...   314.99  -205.24\n",
              "Adventure     1065462         50.26  ...    48.40   -57.73\n",
              "Fighting       659622        114.87  ...    46.33  -124.32\n",
              "Misc          1542773         68.03  ...   289.08  -202.37\n",
              "Platform       707469        310.93  ...   -40.42  -177.38\n",
              "Puzzle         625938         61.92  ...    48.46   -91.73\n",
              "Racing         964081        152.85  ...   147.94  -228.63\n",
              "Role-Playing  1315627        190.44  ...   174.48  -171.80\n",
              "Shooter        950385        124.69  ...   137.59   -67.72\n",
              "Simulation     938960         46.56  ...   173.81  -163.82\n",
              "Sports        1637950        162.94  ...   314.16  -367.65\n",
              "Strategy       657830         54.53  ...    16.63   -43.13\n",
              "\n",
              "[12 rows x 6 columns]"
            ]
          },
          "metadata": {
            "tags": []
          },
          "execution_count": 227
        }
      ]
    },
    {
      "cell_type": "code",
      "metadata": {
        "id": "61p8whPw90Um"
      },
      "source": [
        "######## 궁금증 테스트 (cluster이 될까)\n",
        "import pandas as pd\n",
        "import numpy as np\n",
        "import seaborn as sns\n",
        "from sklearn.cluster import KMeans \n",
        "from sklearn.preprocessing import StandardScaler \n",
        "from sklearn.decomposition import PCA\n",
        "import matplotlib.pyplot as plt\n",
        "\n",
        "df1_sort = df2.drop((['Total_Sales']), axis =1)\n",
        "#Label로 지정\n",
        "publisher_label = df1_sort['Publisher']\n",
        "platform_label = df1_sort['Platform']\n",
        "genre_label = df1_sort['Genre']\n",
        "\n",
        "#숫자 데이터\n",
        "number = df1_sort[['NA_Sales','EU_Sales','JP_Sales','Other_Sales']]\n",
        "\n",
        "#정규화\n",
        "scaler = StandardScaler()\n",
        "scaler.fit(number)\n",
        "number = scaler.transform(number)\n",
        "number\n"
      ],
      "execution_count": null,
      "outputs": []
    },
    {
      "cell_type": "code",
      "metadata": {
        "id": "5rdhaihR_KZA"
      },
      "source": [
        "#Elbow methods\n",
        "sum_of_sqd = []\n",
        "K = range(1, 15)\n",
        "for k in K:\n",
        "    km = KMeans(n_clusters = k)\n",
        "    km = km.fit(number)\n",
        "    sum_of_sqd.append(km.inertia_)\n",
        "\n",
        "plt.plot(K, sum_of_sqd, 'bx-')\n",
        "plt.xlabel('k')\n",
        "plt.ylabel('Sum_of_squared_distances')\n",
        "plt.title('Elbow Method For Optimal k')\n",
        "plt.show()"
      ],
      "execution_count": null,
      "outputs": []
    },
    {
      "cell_type": "code",
      "metadata": {
        "id": "pt1CE6Nv_SmU"
      },
      "source": [
        "k2_means = KMeans(n_clusters=2, random_state=42)\n",
        "k2_means.fit(number)\n",
        "clusters = k2_means.labels_\n",
        "series = pd.Series(clusters)\n",
        "series"
      ],
      "execution_count": null,
      "outputs": []
    },
    {
      "cell_type": "code",
      "metadata": {
        "id": "bKVC8J10_e5b"
      },
      "source": [
        "pca = PCA(n_components = 2)\n",
        "pc = pca.fit_transform(number)\n",
        "final_df = pd.DataFrame(data = pc, columns = ['PC1','PC2'])\n",
        "final_df['Cluster'] = series\n",
        "final_df"
      ],
      "execution_count": null,
      "outputs": []
    },
    {
      "cell_type": "code",
      "metadata": {
        "id": "k7HcSDfc_q4V"
      },
      "source": [
        "label_df = pd.DataFrame(data = pc, columns = ['PC1', 'PC2'])\n",
        "label_df['Publisher'] = pd.Series(publisher_label)\n",
        "label_df"
      ],
      "execution_count": null,
      "outputs": []
    },
    {
      "cell_type": "code",
      "metadata": {
        "id": "s-EK3Nxm_orq"
      },
      "source": [
        "sns.scatterplot(data = label_df ,x='PC1',y='PC2', hue='Publisher')\n",
        "plt.title('Diagnosis Labeled')\n",
        "plt.show()"
      ],
      "execution_count": null,
      "outputs": []
    }
  ]
}
